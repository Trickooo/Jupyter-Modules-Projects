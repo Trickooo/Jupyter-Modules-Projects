{
 "cells": [
  {
   "cell_type": "code",
   "execution_count": 1,
   "id": "3b01d606",
   "metadata": {},
   "outputs": [
    {
     "name": "stdout",
     "output_type": "stream",
     "text": [
      "The world Isn't real!!!\n"
     ]
    }
   ],
   "source": [
    "x = \"The world \"\n",
    "y = \"Isn't \"\n",
    "z = \"real!!!\"\n",
    "print(x + y + z)"
   ]
  },
  {
   "cell_type": "code",
   "execution_count": 2,
   "id": "59d3cc86",
   "metadata": {},
   "outputs": [
    {
     "name": "stdout",
     "output_type": "stream",
     "text": [
      "63\n"
     ]
    }
   ],
   "source": [
    "x = 9\n",
    "q = 7\n",
    "\n",
    "print(q*x)"
   ]
  },
  {
   "cell_type": "code",
   "execution_count": 2,
   "id": "c1f1dfee",
   "metadata": {},
   "outputs": [
    {
     "name": "stdout",
     "output_type": "stream",
     "text": [
      "Hello world!\n",
      "\n",
      "This is a string\n"
     ]
    }
   ],
   "source": [
    "print(\"Hello world!\")\n",
    "print()\n",
    "print(\"This is a string\")"
   ]
  },
  {
   "cell_type": "code",
   "execution_count": 7,
   "id": "3661a70f",
   "metadata": {},
   "outputs": [
    {
     "name": "stdout",
     "output_type": "stream",
     "text": [
      "This is a message\n",
      "This statement doesn't end Spin your head if this works\n"
     ]
    }
   ],
   "source": [
    "print(\"This is a message\")\n",
    "print(\"This statement doesn't end\", end=\" \")\n",
    "print(\"Spin your head if this works\")"
   ]
  },
  {
   "cell_type": "code",
   "execution_count": 8,
   "id": "ed6a6969",
   "metadata": {},
   "outputs": [
    {
     "name": "stdout",
     "output_type": "stream",
     "text": [
      "102608\n"
     ]
    },
    {
     "data": {
      "text/plain": [
       "'102608'"
      ]
     },
     "execution_count": 8,
     "metadata": {},
     "output_type": "execute_result"
    }
   ],
   "source": [
    "input()"
   ]
  },
  {
   "cell_type": "code",
   "execution_count": 3,
   "id": "3ec4bb33",
   "metadata": {},
   "outputs": [
    {
     "name": "stdout",
     "output_type": "stream",
     "text": [
      "What's your name "
     ]
    },
    {
     "name": "stdin",
     "output_type": "stream",
     "text": [
      "Type your name here  Patrick\n"
     ]
    },
    {
     "name": "stdout",
     "output_type": "stream",
     "text": [
      " is my name\n"
     ]
    }
   ],
   "source": [
    "print(\"What's your name\", end=\" \")\n",
    "input(\"Type your name here \")\n",
    "print(\" is my name\")"
   ]
  },
  {
   "cell_type": "code",
   "execution_count": 18,
   "id": "ba54dd8b",
   "metadata": {},
   "outputs": [
    {
     "name": "stdout",
     "output_type": "stream",
     "text": [
      "Patrick Gonzales\n"
     ]
    }
   ],
   "source": [
    "fullName = \"patrick gonzales\"\n",
    "print(fullName.title())"
   ]
  },
  {
   "cell_type": "code",
   "execution_count": 7,
   "id": "669e8cad",
   "metadata": {},
   "outputs": [
    {
     "name": "stdout",
     "output_type": "stream",
     "text": [
      "patrick gonzales10\n"
     ]
    }
   ],
   "source": [
    "fullName = \"patrick gonzales\"\n",
    "x = 10\n",
    "print(fullName + str(x))"
   ]
  },
  {
   "cell_type": "code",
   "execution_count": 20,
   "id": "58ee0cbb",
   "metadata": {},
   "outputs": [
    {
     "name": "stdout",
     "output_type": "stream",
     "text": [
      "aubrey ruela is not right\n"
     ]
    }
   ],
   "source": [
    "fullName = \"aubrey ruela\"\n",
    "x = \"is not right\"\n",
    "\n",
    "print(fullName + \" \" + x)"
   ]
  },
  {
   "cell_type": "code",
   "execution_count": null,
   "id": "82adca50-5345-4494-a309-9f47127ff15f",
   "metadata": {},
   "outputs": [],
   "source": []
  }
 ],
 "metadata": {
  "kernelspec": {
   "display_name": "Python 3 (ipykernel)",
   "language": "python",
   "name": "python3"
  },
  "language_info": {
   "codemirror_mode": {
    "name": "ipython",
    "version": 3
   },
   "file_extension": ".py",
   "mimetype": "text/x-python",
   "name": "python",
   "nbconvert_exporter": "python",
   "pygments_lexer": "ipython3",
   "version": "3.12.1"
  }
 },
 "nbformat": 4,
 "nbformat_minor": 5
}
