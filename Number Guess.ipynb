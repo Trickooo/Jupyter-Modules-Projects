{
 "cells": [
  {
   "cell_type": "code",
   "execution_count": null,
   "metadata": {
    "scrolled": true
   },
   "outputs": [],
   "source": [
    "import random\n",
    "print(\"Today we are going to guess a number!\")\n",
    "print(\"The Number I am thinking of is more than 1 but is not more than 100!\")\n",
    "ranNumber = random.randrange(1,1001)\n",
    "guess = (int(input(\"What do you think is the number I am thinking of? \")))\n",
    "\n",
    "while True:\n",
    "    if guess < ranNumber:\n",
    "        print(\"\\nYou need to guess higher!\")\n",
    "        guess = int(input(\"You need to guess again! \"))\n",
    "        if guess > ranNumber: \n",
    "            print(\"\\nYou need to guess lower than that!\")\n",
    "            guess = int(input(\"What's your guess? \"))\n",
    "        if guess == ranNumber:\n",
    "            print(\"\\nWow! you managed to guess the number I am thinking of.\")\n",
    "            break\n",
    "        if guess < 1:\n",
    "            print(\"\\nRemember you need to guess higher than 1 \")\n",
    "        if guess > 1001:\n",
    "            print(\"\\nRemember you need to guess lower than 1000\")"
   ]
  }
 ],
 "metadata": {
  "kernelspec": {
   "display_name": "Python 3 (ipykernel)",
   "language": "python",
   "name": "python3"
  },
  "language_info": {
   "codemirror_mode": {
    "name": "ipython",
    "version": 3
   },
   "file_extension": ".py",
   "mimetype": "text/x-python",
   "name": "python",
   "nbconvert_exporter": "python",
   "pygments_lexer": "ipython3",
   "version": "3.12.1"
  }
 },
 "nbformat": 4,
 "nbformat_minor": 4
}
