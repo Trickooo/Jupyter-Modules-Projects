{
 "cells": [
  {
   "cell_type": "code",
   "execution_count": 8,
   "id": "d67dfb88",
   "metadata": {},
   "outputs": [
    {
     "name": "stdout",
     "output_type": "stream",
     "text": [
      "What is your first grade? 454\n",
      "['454']\n"
     ]
    }
   ],
   "source": [
    "grades = []\n",
    "grade = input(\"What is your first grade? \")\n",
    "grades.append(grade)\n",
    "\n",
    "print(grades)"
   ]
  },
  {
   "cell_type": "code",
   "execution_count": 59,
   "id": "087f1ef6",
   "metadata": {},
   "outputs": [
    {
     "name": "stdout",
     "output_type": "stream",
     "text": [
      "Welcome to the Grade Sorter App\n",
      "\n",
      "What is your first grade (0-100): 88\n",
      "\n",
      "What is your second grade (0-100): 96\n",
      "\n",
      "What is your third grade (0-100): 78\n",
      "\n",
      "What is your fourth grade (0-100): 98\n",
      "\n",
      "Your grades are: [88, 96, 78, 98]\n",
      "\n",
      "Your grades from highest to lowest are:  [98, 96, 88, 78]\n",
      "\n",
      "The lowest two grade will now be dropped.\n",
      "Removed grade: 78\n",
      "Removed grade: 88\n",
      "\\Your remaining grades are: [98, 96]\n",
      "Great Work! Your highest grade is: 98\n"
     ]
    }
   ],
   "source": [
    "print(\"Welcome to the Grade Sorter App\")\n",
    "grades = []\n",
    "grade = int(input(\"\\nWhat is your first grade (0-100): \"))\n",
    "grades.append(grade)\n",
    "grade = int(input(\"\\nWhat is your second grade (0-100): \"))\n",
    "grades.append(grade)\n",
    "grade = int(input(\"\\nWhat is your third grade (0-100): \"))\n",
    "grades.append(grade)\n",
    "grade = int(input(\"\\nWhat is your fourth grade (0-100): \"))\n",
    "grades.append(grade)\n",
    "print(\"\\nYour grades are: \" + str(grades))\n",
    "print(\"\\nYour grades from highest to lowest are: \", end= \" \")\n",
    "print(sorted(grades, reverse = True))\n",
    "print(\"\\nThe lowest two grade will now be dropped.\")\n",
    "grades.sort(reverse=True)\n",
    "removeGrade = grades.pop()\n",
    "print(\"Removed grade: \" + str(removeGrade))\n",
    "removeGrade = grades.pop()\n",
    "print(\"Removed grade: \" + str(removeGrade))\n",
    "print(\"\\Your remaining grades are: \" + str(grades))\n",
    "print(\"Great Work! Your highest grade is: \" + str(grades[0]))"
   ]
  },
  {
   "cell_type": "code",
   "execution_count": null,
   "id": "d19a6f02",
   "metadata": {},
   "outputs": [],
   "source": []
  },
  {
   "cell_type": "code",
   "execution_count": null,
   "id": "001e5f35",
   "metadata": {},
   "outputs": [],
   "source": []
  }
 ],
 "metadata": {
  "kernelspec": {
   "display_name": "Python 3 (ipykernel)",
   "language": "python",
   "name": "python3"
  },
  "language_info": {
   "codemirror_mode": {
    "name": "ipython",
    "version": 3
   },
   "file_extension": ".py",
   "mimetype": "text/x-python",
   "name": "python",
   "nbconvert_exporter": "python",
   "pygments_lexer": "ipython3",
   "version": "3.12.1"
  }
 },
 "nbformat": 4,
 "nbformat_minor": 5
}
