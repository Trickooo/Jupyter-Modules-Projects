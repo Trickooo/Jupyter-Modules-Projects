{
 "cells": [
  {
   "cell_type": "code",
   "execution_count": 17,
   "id": "a8dfb32b",
   "metadata": {},
   "outputs": [
    {
     "name": "stdout",
     "output_type": "stream",
     "text": [
      "Welcome to Bautista and Gonzales'\n",
      "Miles per Hour Conversion App\n",
      "\n",
      "What is your speed in Miles Per hour? 122315665\n",
      "122315665.0mph is your speed.\n",
      "\n",
      "All done computing!\n",
      "\n",
      "Your speed in meters per second is 54724028.52.\n"
     ]
    }
   ],
   "source": [
    "print(\"Welcome to Bautista and Gonzales'\")\n",
    "print(\"Miles per Hour Conversion App\")\n",
    "\n",
    "#This is the part where we ask the user to type in the speed so we can convert it.\n",
    "mph = float(input(\"\\nWhat is your speed in Miles Per hour? \"))\n",
    "print(str(mph) + \"mph is your speed.\")\n",
    "mps = mph * 0.4474\n",
    "#This section allows the app to include decimals to the output\n",
    "mps = round(mps, 2)\n",
    "\n",
    "print(\"\\nAll done computing!\")\n",
    "print(\"\\nYour speed in meters per second is \" + str(mps) + \".\")"
   ]
  },
  {
   "cell_type": "code",
   "execution_count": 28,
   "id": "62f0d85a",
   "metadata": {},
   "outputs": [
    {
     "name": "stdout",
     "output_type": "stream",
     "text": [
      "Welcome to Bautista and Gonzales' Temperature Conversion App\n",
      "\n",
      "What is the temperature in degrees Fahrenheit: 66\n",
      "\n",
      "All done computing!\n",
      "\n",
      "Degrees Fahrenheit:\t 66.0\n",
      "Degrees Celcius:\t 18.8889\n",
      "Degrees Kelvin:\t\t 292.0389\n"
     ]
    }
   ],
   "source": [
    "print(\"Welcome to Bautista and Gonzales' Temperature Conversion App\")\n",
    "#The input will get the value of the temperature in Fahrenheit from the user\n",
    "tempFah = float(input(\"\\nWhat is the temperature in degrees Fahrenheit: \"))\n",
    "\n",
    "tempCel = (5/9) * (tempFah - 32)\n",
    "tempKel = tempCel + 273.15\n",
    "#We used the round() to be able to round off the temperature to their 4th decimal place\n",
    "tempFah = round(tempFah,4)\n",
    "tempCel = round(tempCel,4)\n",
    "tempKel = round(tempKel,4)\n",
    "#This is the outcome for converting Fahrenheit to celcius and kelvin\n",
    "print(\"\\nAll done computing!\")\n",
    "print(\"\\nDegrees Fahrenheit:\\t \" + str(tempFah))\n",
    "print(\"Degrees Celcius:\\t \" + str(tempCel))\n",
    "print(\"Degrees Kelvin:\\t\\t \" + str(tempKel))"
   ]
  },
  {
   "cell_type": "code",
   "execution_count": null,
   "id": "273c3ce2",
   "metadata": {},
   "outputs": [],
   "source": [
    "print(\"Welcome to Bautista and Gonzales' Right Triangle Solver App\")\n",
    "\n",
    "legOne = float(input(\"What is the value of the first leg? \"))\n",
    "legTwo = float(input(\"What is the value of the second leg? \"))\n",
    "\n",
    "hypo = (legOne**2 + legTwo**2)**0.5\n",
    "area = (legOne * legTwo)/2\n",
    "legOne = round(legOne, 3)\n",
    "legTwo = round(legTwo, 3)\n",
    "print(hypo)\n",
    "print(area)"
   ]
  },
  {
   "cell_type": "code",
   "execution_count": 7,
   "id": "83e19f1c",
   "metadata": {},
   "outputs": [
    {
     "name": "stdout",
     "output_type": "stream",
     "text": [
      "Welcome to Bautista and Gonzales' Right Triangle Solver App\n",
      "What is the value of the first leg? 20\n",
      "What is the value of the second leg? 40.5\n",
      "\n",
      "For the right tringle with first and second leg value being 20.0 and 40.5 respectively,\n",
      "the value of the Hypotenuse is 45.169.\n",
      "\n",
      "For the right triangle with first and second leg value being 20.0 and 40.5 respectively\n",
      "the value of the Area is 405.0.\n"
     ]
    }
   ],
   "source": [
    "print(\"Welcome to Bautista and Gonzales' Right Triangle Solver App\")\n",
    "#The first step is to ask for the values of the first and second leg\n",
    "legOne = float(input(\"What is the value of the first leg? \"))\n",
    "legTwo = float(input(\"What is the value of the second leg? \"))\n",
    "#The formula for hypotenuse is square root of (x^2 + y^2)\n",
    "#the formula for the area is (x*y)/2\n",
    "hypo = (legOne**2 + legTwo**2)**0.5\n",
    "area = (legOne * legTwo)/2\n",
    "#this will make the results be rounded up to 3\n",
    "legOne = round(legOne, 3)\n",
    "legTwo = round(legTwo, 3)\n",
    "hypo = round(hypo, 3)\n",
    "area = round(area, 3)\n",
    "#this area computes the hypotenuse and the area of it summarized\n",
    "print(\"\\nFor the right tringle with first and second leg value being \" + str(legOne) + \" and \" + str(legTwo) + \" respectively,\")\n",
    "print(\"the value of the Hypotenuse is \" + str(hypo) + \".\")\n",
    "\n",
    "print(\"\\nFor the right triangle with first and second leg value being \" + str(legOne) + \" and \" + str(legTwo) + \" respectively\")\n",
    "print(\"the value of the Area is \" + str(area) + \".\")"
   ]
  },
  {
   "cell_type": "code",
   "execution_count": 2,
   "id": "b23c6ee7",
   "metadata": {},
   "outputs": [
    {
     "name": "stdout",
     "output_type": "stream",
     "text": [
      "Welcome to Bautista and Gonzales'\n",
      "Multiplication and Exponent Table Program!\n",
      "What is your name? Patrick\n",
      "What number would you like to use? 2.35\n",
      "Hello,Patrick! Here are the tables for Multiplication and Exponents for 2.35\n",
      "\n",
      "Multiplication Table for 2.35\n",
      "\t1 * 2.35 = 2.35\n",
      "\t2 * 2.35 = 4.7\n",
      "\t3 * 2.35 = 7.05\n",
      "\t4 * 2.35 = 9.4\n",
      "\t5 * 2.35 = 11.75\n",
      "\t6 * 2.35 = 14.1\n",
      "\t7 * 2.35 = 16.45\n",
      "\t8 * 2.35 = 18.8\n",
      "\t9 * 2.35 = 21.15\n",
      "\n",
      "Exponent Table for 2.35\n",
      "\t2.35 ** 1 = 2.35\n",
      "\t2.35 ** 2 = 5.5225\n",
      "\t2.35 ** 3 = 12.9779\n",
      "\t2.35 ** 4 = 30.498\n",
      "\t2.35 ** 5 = 71.6703\n",
      "\t2.35 ** 6 = 168.4252\n",
      "\t2.35 ** 7 = 395.7993\n",
      "\t2.35 ** 8 = 930.1284\n",
      "\t2.35 ** 9 = 2185.8017\n"
     ]
    }
   ],
   "source": [
    "print(\"Welcome to Bautista and Gonzales'\")\n",
    "print(\"Multiplication and Exponent Table Program!\")\n",
    "\n",
    "name = input(\"What is your name? \")\n",
    "given = float(input(\"What number would you like to use? \"))\n",
    "#We understand that we could use while loop so we dont need to write them one by one\n",
    "#but we aren't talkig about while loops yet so we sticked to this which still works regardless,\n",
    "#while loop could just made it more efficient\n",
    "ans1 = 1*given\n",
    "ans2 = 2*given\n",
    "ans3 = 3*given\n",
    "ans4 = 4*given\n",
    "ans5 = 5*given\n",
    "ans6 = 6*given\n",
    "ans7 = 7*given\n",
    "ans8 = 8*given\n",
    "ans9 = 9*given\n",
    "ex1 = given ** 1\n",
    "ex2 = given ** 2\n",
    "ex3 = given ** 3\n",
    "ex4 = given ** 4\n",
    "ex5 = given ** 5\n",
    "ex6 = given ** 6\n",
    "ex7 = given ** 7\n",
    "ex8 = given ** 8\n",
    "ex9 = given ** 9\n",
    "ans1 = round(ans1, 4)\n",
    "ans2 = round(ans2, 4)\n",
    "ans3 = round(ans3, 4)\n",
    "ans4 = round(ans4, 4)\n",
    "ans5 = round(ans5, 4)\n",
    "ans6 = round(ans6, 4)\n",
    "ans7 = round(ans7, 4)\n",
    "ans8 = round(ans8, 4)\n",
    "ans9 = round(ans9, 4)\n",
    "ex1 = round(ex1, 4)\n",
    "ex2 = round(ex2, 4)\n",
    "ex3 = round(ex3, 4)\n",
    "ex4 = round(ex4, 4)\n",
    "ex5 = round(ex5, 4)\n",
    "ex6 = round(ex6, 4)\n",
    "ex7 = round(ex7, 4)\n",
    "ex8 = round(ex8, 4)\n",
    "ex9 = round(ex9, 4)\n",
    "\n",
    "\n",
    "\n",
    "print(\"Hello,\" + str(name) + \"! Here are the tables for Multiplication and Exponents for \" + str(given))\n",
    "#the table needs the given and the answer from the float we have,\n",
    "#This could've been done better with loops but this is for basic data types and the instruction didn't require the loop\n",
    "#but the app works, just need efficiency on coding it.\n",
    "print(\"\\nMultiplication Table for \" + str(given))\n",
    "print(\"\\t1 * \" + str(given) + \" = \" + str(ans1))\n",
    "print(\"\\t2 * \" + str(given) + \" = \" + str(ans2))\n",
    "print(\"\\t3 * \" + str(given) + \" = \" + str(ans3))\n",
    "print(\"\\t4 * \" + str(given) + \" = \" + str(ans4))\n",
    "print(\"\\t5 * \" + str(given) + \" = \" + str(ans5))\n",
    "print(\"\\t6 * \" + str(given) + \" = \" + str(ans6))\n",
    "print(\"\\t7 * \" + str(given) + \" = \" + str(ans7))\n",
    "print(\"\\t8 * \" + str(given) + \" = \" + str(ans8))\n",
    "print(\"\\t9 * \" + str(given) + \" = \" + str(ans9))\n",
    "\n",
    "print(\"\\nExponent Table for \" + str(given))\n",
    "print(\"\\t\" + str(given) + \" ** 1\" \" = \" + str(ex1))\n",
    "print(\"\\t\" + str(given) + \" ** 2\" \" = \" + str(ex2))\n",
    "print(\"\\t\" + str(given) + \" ** 3\" \" = \" + str(ex3))\n",
    "print(\"\\t\" + str(given) + \" ** 4\" \" = \" + str(ex4))\n",
    "print(\"\\t\" + str(given) + \" ** 5\" \" = \" + str(ex5))\n",
    "print(\"\\t\" + str(given) + \" ** 6\" \" = \" + str(ex6))\n",
    "print(\"\\t\" + str(given) + \" ** 7\" \" = \" + str(ex7))\n",
    "print(\"\\t\" + str(given) + \" ** 8\" \" = \" + str(ex8))\n",
    "print(\"\\t\" + str(given) + \" ** 9\" \" = \" + str(ex9))"
   ]
  },
  {
   "cell_type": "code",
   "execution_count": null,
   "id": "478994a3",
   "metadata": {},
   "outputs": [],
   "source": []
  }
 ],
 "metadata": {
  "kernelspec": {
   "display_name": "Python 3 (ipykernel)",
   "language": "python",
   "name": "python3"
  },
  "language_info": {
   "codemirror_mode": {
    "name": "ipython",
    "version": 3
   },
   "file_extension": ".py",
   "mimetype": "text/x-python",
   "name": "python",
   "nbconvert_exporter": "python",
   "pygments_lexer": "ipython3",
   "version": "3.9.7"
  }
 },
 "nbformat": 4,
 "nbformat_minor": 5
}
