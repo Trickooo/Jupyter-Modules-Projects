{
 "cells": [
  {
   "cell_type": "markdown",
   "metadata": {},
   "source": [
    "## Functions\n",
    "\n",
    "\n",
    "### Module Overview\n",
    "\n",
    "In this module we will introduce functions. By definng our own functions, we can make our programs more efficient. By defining a function with a specific purpose and scope, we can call that function a nywhere in our programs to perform the task it was designed to do. We will learn how to:\n",
    "\n",
    "* Use the def statement to define our own functions\n",
    "* Define function parameters including default value cases\n",
    "* Differentiate between function parameters and function arguments\n",
    "* Use function calls with appropriate arguments\n",
    "* Use the return statement to send the results of a function back to the user\n",
    "* Use local and global variables appropriately\n",
    "* Investigate how mutable and immutable data types work with functions\n",
    "* Use the pyplot library from matplotlib to make graph visualizations of data sets\n",
    "\n",
    "<b>Functions</b> - A function is a block of code which only runs when it is called. You can pass data, known as parameters, into a function. A function can return data as a result. \n",
    "\n",
    "### Data Types\n",
    "\n",
    "* Strings: A series of characters \n",
    "* Integers: Whole Numbers\n",
    "* Floats: Decimal Numbers\n",
    "* Lists: A mutable collection\n",
    "* Tuples: An immutable collection\n",
    "* Ranges: A sequence of integers\n",
    "* Dictionaries: A collection of associated key-value pairs\n",
    "\n",
    "### Control Flow\n",
    "\n",
    "* For Loops\n",
    "* If Statements\n",
    "* If/Else Statements\n",
    "* If/Elif/Else Stataments\n",
    "* Break\n",
    "* Pass\n",
    "* Continue\n",
    "* While Loops\n",
    "\n",
    "<b>For today</b>\n",
    "* Def\n",
    "* Return\n",
    "\n",
    "### Operators\n",
    "<b> Assignment Operators </b>\n",
    "* = Assignment\n",
    "* += Compound Assignment\n",
    "* -= Compound Assignment\n",
    "* + Concatenation (strings)\n",
    "\n",
    "<b>Algebraic Operators</b>\n",
    "* +&nbsp;Addition (ints and floats)\n",
    "* -&nbsp;Subtraction\n",
    "* *&nbsp;Multiplication\n",
    "* /&nbsp;Division\n",
    "* **&nbsp;Exponentiation \n",
    "* %&nbsp;Modulo Division\n",
    "\n",
    " ### Built In Functions\n",
    "\n",
    "* print()\n",
    "* type()\n",
    "* str()\n",
    "* int()\n",
    "* float()\n",
    "* input()\n",
    "* round()\n",
    "* sorted\n",
    "* len()\n",
    "* range()\n",
    "* list()\n",
    "* min()\n",
    "* max()\n",
    "* sum()\n",
    "* zip()\n",
    "* bin()\n",
    "* hex()\n",
    "* set()\n",
    "* bool()\n",
    "\n",
    "### Methods\n",
    "\n",
    "<b> Strings: </b>\n",
    "* .upper()\n",
    "* .lower()\n",
    "* .title()\n",
    "* .strip()\n",
    "* .count()\n",
    "* .join()\n",
    "* .replace()\n",
    "* .split()\n",
    "\n",
    "<b> Lists: </b>\n",
    "* .append()\n",
    "* .insert()\n",
    "* .pop()\n",
    "* .remove()\n",
    "* .sort()\n",
    "* .reverse() \n",
    "* .copy() \n",
    "* .index()\n",
    "\n",
    "<b>Dictionaries:</b> \n",
    "* .items()\n",
    "* .keys()\n",
    "* .values()\n",
    "* .most_common()\n",
    "\n",
    "<b> External Libraries </b>\n",
    "* math\n",
    "* datetime\n",
    "* cmath\n",
    "* random\n",
    "* collections\n",
    "* time\n",
    "\n",
    "<b>For today</b>\n",
    "* matplotlib\n",
    "\n",
    "### Codelabs\n",
    "\n",
    "1. Python Dice App\n",
    "2. Python Calculator App"
   ]
  },
  {
   "cell_type": "code",
   "execution_count": null,
   "metadata": {},
   "outputs": [],
   "source": [
    "print()"
   ]
  },
  {
   "cell_type": "code",
   "execution_count": null,
   "metadata": {},
   "outputs": [],
   "source": [
    "print(\"Hello World!\")"
   ]
  },
  {
   "cell_type": "code",
   "execution_count": null,
   "metadata": {},
   "outputs": [],
   "source": [
    "print(\"Goodbye World!\", end=' cry cry cry ')\n",
    "print(\"Just kidding.\")"
   ]
  },
  {
   "cell_type": "code",
   "execution_count": 56,
   "metadata": {},
   "outputs": [
    {
     "name": "stdout",
     "output_type": "stream",
     "text": [
      "first argument second argument third argument\n"
     ]
    }
   ],
   "source": [
    "print(\"first argument\" , \"second argument\", \"third argument\")"
   ]
  },
  {
   "cell_type": "code",
   "execution_count": null,
   "metadata": {},
   "outputs": [],
   "source": [
    "print(\"first argument\" , \"second argument\", \"third argument\", sep =\"$\")"
   ]
  },
  {
   "cell_type": "code",
   "execution_count": null,
   "metadata": {},
   "outputs": [],
   "source": [
    "print(\"first argument\", 245, 5.25, \"string values\")"
   ]
  },
  {
   "cell_type": "code",
   "execution_count": null,
   "metadata": {},
   "outputs": [],
   "source": [
    "input(\"What is your name: \")"
   ]
  },
  {
   "cell_type": "code",
   "execution_count": null,
   "metadata": {},
   "outputs": [],
   "source": [
    "name = input(\"What is your name: \")\n",
    "print(\"Hello \" + name.title())"
   ]
  },
  {
   "cell_type": "markdown",
   "metadata": {},
   "source": [
    "Note: \n",
    "\n",
    "Sometimes a function returns a value a variable like input which we can set it equal to a variable\n",
    "\n",
    "yourvariable = input(\"Some string here\")\n",
    "\n",
    "but we can also have a function that has no returns like print(). We cannot say or make it equal to a variable.\n",
    "\n",
    "and so as you have been noticing (hopefully you are noticing it), our FUNCTIONS we might define variables like name equals etc... and then a function call and other times we might just have a function call. Take note that is is dependednt upon that function has a return value and return values is something that we are going to discuss later.\n",
    "\n",
    "<b>In Python a function is defined using the def keyword:</b>"
   ]
  },
  {
   "cell_type": "code",
   "execution_count": null,
   "metadata": {},
   "outputs": [],
   "source": [
    "#Define a function with a function definition\n",
    "#def then function name\n",
    "def HelloWorld():\n",
    "    #its a good habit to include a dark string or three quotations at the start of a function that briefly describes the functions used\n",
    "        \"\"\"Greet the whole world\"\"\"\n",
    "        print(\"Hello World!\")\n",
    "    \n",
    "    \n",
    "    "
   ]
  },
  {
   "cell_type": "code",
   "execution_count": null,
   "metadata": {},
   "outputs": [],
   "source": [
    "HelloWorld()"
   ]
  },
  {
   "cell_type": "markdown",
   "metadata": {},
   "source": [
    "Explain:\n",
    "\n",
    "Functions are more dynamic when their behavior changes based on user input. We can accomplish this by passing arguments to the function. When we do this, the behavior of the function can change just like the print or input statements. \n",
    "\n",
    "When you define a function you pass dunction parameters. Parameters are pieces of information that tell your function how to do its job.\n",
    "\n"
   ]
  },
  {
   "cell_type": "code",
   "execution_count": 57,
   "metadata": {},
   "outputs": [
    {
     "ename": "TypeError",
     "evalue": "HelloWorld() missing 2 required positional arguments: 'name' and 'age'",
     "output_type": "error",
     "traceback": [
      "\u001b[1;31m---------------------------------------------------------------------------\u001b[0m",
      "\u001b[1;31mTypeError\u001b[0m                                 Traceback (most recent call last)",
      "\u001b[1;32m<ipython-input-57-dae7e395e424>\u001b[0m in \u001b[0;36m<module>\u001b[1;34m\u001b[0m\n\u001b[0;32m      4\u001b[0m     \u001b[0mprint\u001b[0m\u001b[1;33m(\u001b[0m\u001b[1;34m\"You are \"\u001b[0m \u001b[1;33m+\u001b[0m \u001b[0mstr\u001b[0m\u001b[1;33m(\u001b[0m\u001b[0mage\u001b[0m\u001b[1;33m)\u001b[0m \u001b[1;33m+\u001b[0m \u001b[1;34m\" years old.\"\u001b[0m\u001b[1;33m)\u001b[0m\u001b[1;33m\u001b[0m\u001b[1;33m\u001b[0m\u001b[0m\n\u001b[0;32m      5\u001b[0m \u001b[1;33m\u001b[0m\u001b[0m\n\u001b[1;32m----> 6\u001b[1;33m \u001b[0mHelloWorld\u001b[0m\u001b[1;33m(\u001b[0m\u001b[1;33m)\u001b[0m\u001b[1;33m\u001b[0m\u001b[1;33m\u001b[0m\u001b[0m\n\u001b[0m",
      "\u001b[1;31mTypeError\u001b[0m: HelloWorld() missing 2 required positional arguments: 'name' and 'age'"
     ]
    }
   ],
   "source": [
    "def HelloWorld(name, age):\n",
    "    \"\"\"Greet a user and repeat the age\"\"\"\n",
    "    print(\"Hello \" + name.title() + \"!\")\n",
    "    print(\"You are \" + str(age) + \" years old.\")\n",
    "\n",
    "HelloWorld()"
   ]
  },
  {
   "cell_type": "code",
   "execution_count": null,
   "metadata": {},
   "outputs": [],
   "source": [
    "HelloWorld(\"ryan\",19)"
   ]
  },
  {
   "cell_type": "code",
   "execution_count": null,
   "metadata": {},
   "outputs": [],
   "source": [
    "userName = 'Alden'\n",
    "userAge = 7\n",
    "HelloWorld(userName, userAge)"
   ]
  },
  {
   "cell_type": "code",
   "execution_count": null,
   "metadata": {},
   "outputs": [],
   "source": [
    "# putting default values in the function\n",
    "\n",
    "def GoodbyeWorld(name='nobody', day='today'):\n",
    "    \"\"\"Goodbye to a person and wish them a good day\"\"\"\n",
    "    print(\"Goodbye \" + name.title() + \"...\")\n",
    "    print(\"May you have a good \" + day.title() +\".\")"
   ]
  },
  {
   "cell_type": "code",
   "execution_count": null,
   "metadata": {},
   "outputs": [],
   "source": [
    "GoodbyeWorld()"
   ]
  },
  {
   "cell_type": "code",
   "execution_count": null,
   "metadata": {},
   "outputs": [],
   "source": [
    "GoodbyeWorld('mike')"
   ]
  },
  {
   "cell_type": "code",
   "execution_count": null,
   "metadata": {},
   "outputs": [],
   "source": [
    "GoodbyeWorld('mike','Friday')"
   ]
  },
  {
   "cell_type": "code",
   "execution_count": null,
   "metadata": {},
   "outputs": [],
   "source": [
    "#Another Example a function to calculate a persons afe in x years\n",
    "def CalcAge(age=0, interval=10):\n",
    "    \"\"\"Calculate a persons age in X years\"\"\"\n",
    "    print(\"You are currently \" + str(age) + \" years old.\")\n",
    "    age+= interval\n",
    "    print(\"In \" + str(interval) + \" years you will be \" + str(age) + \".\")"
   ]
  },
  {
   "cell_type": "code",
   "execution_count": null,
   "metadata": {},
   "outputs": [],
   "source": [
    "CalcAge()"
   ]
  },
  {
   "cell_type": "code",
   "execution_count": null,
   "metadata": {},
   "outputs": [],
   "source": [
    "CalcAge(33)"
   ]
  },
  {
   "cell_type": "code",
   "execution_count": null,
   "metadata": {},
   "outputs": [],
   "source": [
    "CalcAge(33,22)"
   ]
  },
  {
   "cell_type": "markdown",
   "metadata": {},
   "source": [
    "Note: Remind the students that it is always a good practice to put all the function definition on top of the code. So all reusable block of code such as function should be on the top\n",
    "\n",
    "For the Next topic, we are going to discuss the return value.\n",
    "\n",
    "All of our functions we've written so far performed an operation based on input. Now let's write some functions that perform operations but return a result. Think of a function call as asking the function to do something and it's giving you back the results. When you have a return statement you have to grab this return value. Otherwise its information will be lost. So let's define a new function\n"
   ]
  },
  {
   "cell_type": "code",
   "execution_count": 58,
   "metadata": {},
   "outputs": [],
   "source": [
    "def CalcAge2(age, interval=0):\n",
    "    \"\"\"Determine a persons age after interval years.\"\"\"\n",
    "    age += interval\n",
    "    return age"
   ]
  },
  {
   "cell_type": "code",
   "execution_count": 59,
   "metadata": {},
   "outputs": [
    {
     "name": "stdout",
     "output_type": "stream",
     "text": [
      "\n"
     ]
    }
   ],
   "source": [
    "CalcAge2(33,12)\n",
    "print()"
   ]
  },
  {
   "cell_type": "code",
   "execution_count": 5,
   "metadata": {},
   "outputs": [
    {
     "name": "stdout",
     "output_type": "stream",
     "text": [
      "45\n"
     ]
    }
   ],
   "source": [
    "newAge = CalcAge2(33,12)\n",
    "print(newAge)"
   ]
  },
  {
   "cell_type": "code",
   "execution_count": 6,
   "metadata": {},
   "outputs": [
    {
     "name": "stdout",
     "output_type": "stream",
     "text": [
      "100\n"
     ]
    }
   ],
   "source": [
    "newAge = CalcAge2(33,67)\n",
    "print(newAge)"
   ]
  },
  {
   "cell_type": "code",
   "execution_count": 7,
   "metadata": {},
   "outputs": [
    {
     "name": "stdout",
     "output_type": "stream",
     "text": [
      "None\n"
     ]
    }
   ],
   "source": [
    "#Common mistake - there is no return value\n",
    "def CalcAge2(age, interval=0):\n",
    "    \"\"\"Determine a persons age after interval years.\"\"\"\n",
    "    age += interval\n",
    "    # return age\n",
    "\n",
    "newAge = CalcAge2(33,67)\n",
    "print(newAge)"
   ]
  },
  {
   "cell_type": "code",
   "execution_count": 8,
   "metadata": {},
   "outputs": [
    {
     "name": "stdout",
     "output_type": "stream",
     "text": [
      "hi\n",
      "100\n"
     ]
    }
   ],
   "source": [
    "#Common mistake - commands after the return statement - demo before\n",
    "def CalcAge2(age, interval=0):\n",
    "    \"\"\"Determine a persons age after interval years.\"\"\"\n",
    "    age += interval\n",
    "    print(\"hi\")\n",
    "    return age\n",
    "\n",
    "newAge = CalcAge2(33,67)\n",
    "print(newAge)"
   ]
  },
  {
   "cell_type": "code",
   "execution_count": 9,
   "metadata": {},
   "outputs": [
    {
     "name": "stdout",
     "output_type": "stream",
     "text": [
      "100\n"
     ]
    }
   ],
   "source": [
    "#Common mistake - commands after the return statement - demo after (it will not be executed)\n",
    "def CalcAge2(age, interval=0):\n",
    "    \"\"\"Determine a persons age after interval years.\"\"\"\n",
    "    age += interval\n",
    "    return age\n",
    "    print(\"hi\")\n",
    "\n",
    "newAge = CalcAge2(33,67)\n",
    "print(newAge)"
   ]
  },
  {
   "cell_type": "code",
   "execution_count": 14,
   "metadata": {},
   "outputs": [
    {
     "name": "stdout",
     "output_type": "stream",
     "text": [
      "<class 'dict'>\n"
     ]
    }
   ],
   "source": [
    "def CourseInfo(courseName, studentNo, creditHours):\n",
    "    \"\"\"Simulate a college course and return the summary as dictionary\"\"\"\n",
    "    course = {\n",
    "        'Course Name': courseName.title(),\n",
    "        'Student Number': studentNo,\n",
    "        'Credit Hours': creditHours,\n",
    "    }\n",
    "    return course\n",
    "\n",
    "subject = CourseInfo(\"Python Programming\" , 32, 5)\n",
    "print(type(subject))"
   ]
  },
  {
   "cell_type": "code",
   "execution_count": 17,
   "metadata": {},
   "outputs": [
    {
     "name": "stdout",
     "output_type": "stream",
     "text": [
      "Course Name : Python Programming\n",
      "Student Number : 32\n",
      "Credit Hours : 5\n"
     ]
    }
   ],
   "source": [
    "for key, value in subject.items():\n",
    "    print(key + \" : \" + str(value))"
   ]
  },
  {
   "cell_type": "code",
   "execution_count": 60,
   "metadata": {},
   "outputs": [],
   "source": [
    "def DropStudent(course):\n",
    "    \"\"\"Simulate dropping a student from a specific course\"\"\"\n",
    "    course['Student Number'] -= 1\n",
    "    print(\"Dropping student from \" + course['Course Name'] + \".\")\n",
    "    "
   ]
  },
  {
   "cell_type": "code",
   "execution_count": 61,
   "metadata": {},
   "outputs": [
    {
     "name": "stdout",
     "output_type": "stream",
     "text": [
      "Dropping student from Python Programming.\n"
     ]
    }
   ],
   "source": [
    "DropStudent(subject)"
   ]
  },
  {
   "cell_type": "code",
   "execution_count": 20,
   "metadata": {},
   "outputs": [
    {
     "name": "stdout",
     "output_type": "stream",
     "text": [
      "Course Name : Python Programming\n",
      "Student Number : 31\n",
      "Credit Hours : 5\n"
     ]
    }
   ],
   "source": [
    "for key, value in subject.items():\n",
    "    print(key + \" : \" + str(value))"
   ]
  },
  {
   "cell_type": "markdown",
   "metadata": {},
   "source": [
    "In general, a variable that is defined in a block is available in that block only. It is not accessible outside the block. Such a variable is called a <b>local variable</b>. Any variable present outside any function block is termed as a <b>global variable</b>. Its value is accessible from inside any function.\n"
   ]
  },
  {
   "cell_type": "code",
   "execution_count": null,
   "metadata": {},
   "outputs": [],
   "source": [
    "number = 3\n",
    "\n",
    "def TimesTen(x):\n",
    "    \"\"\"Multiply a number by 10\"\"\"\n",
    "    x *= 10\n",
    "# number is a global variable it exist outside of a function\n",
    "# x is a local variable because it exist inside of a function\n",
    "# Do not run, just move the number 3 under the function definition"
   ]
  },
  {
   "cell_type": "code",
   "execution_count": 21,
   "metadata": {},
   "outputs": [
    {
     "name": "stdout",
     "output_type": "stream",
     "text": [
      "3\n"
     ]
    }
   ],
   "source": [
    "def TimesTen(x):\n",
    "    \"\"\"Multiply a number by 10\"\"\"\n",
    "    x *= 10\n",
    "\n",
    "number = 3\n",
    "print(number)"
   ]
  },
  {
   "cell_type": "code",
   "execution_count": 22,
   "metadata": {},
   "outputs": [],
   "source": [
    "TimesTen(number)\n",
    "#nothing will happen"
   ]
  },
  {
   "cell_type": "code",
   "execution_count": 24,
   "metadata": {},
   "outputs": [
    {
     "name": "stdout",
     "output_type": "stream",
     "text": [
      "30\n"
     ]
    }
   ],
   "source": [
    "def TimesTen(x):\n",
    "    \"\"\"Multiply a number by 10\"\"\"\n",
    "    x *= 10\n",
    "    print(x)\n",
    "number = 3\n",
    "TimesTen(number)"
   ]
  },
  {
   "cell_type": "code",
   "execution_count": 25,
   "metadata": {},
   "outputs": [
    {
     "name": "stdout",
     "output_type": "stream",
     "text": [
      "3\n",
      "30\n"
     ]
    }
   ],
   "source": [
    "def TimesTen(x):\n",
    "    \"\"\"Multiply a number by 10\"\"\"\n",
    "    print(x)\n",
    "    x *= 10\n",
    "    print(x)\n",
    "number = 3\n",
    "TimesTen(number)"
   ]
  },
  {
   "cell_type": "code",
   "execution_count": 26,
   "metadata": {},
   "outputs": [
    {
     "ename": "NameError",
     "evalue": "name 'x' is not defined",
     "output_type": "error",
     "traceback": [
      "\u001b[1;31m---------------------------------------------------------------------------\u001b[0m",
      "\u001b[1;31mNameError\u001b[0m                                 Traceback (most recent call last)",
      "\u001b[1;32m<ipython-input-26-fc17d851ef81>\u001b[0m in \u001b[0;36m<module>\u001b[1;34m\u001b[0m\n\u001b[1;32m----> 1\u001b[1;33m \u001b[0mprint\u001b[0m\u001b[1;33m(\u001b[0m\u001b[0mx\u001b[0m\u001b[1;33m)\u001b[0m\u001b[1;33m\u001b[0m\u001b[1;33m\u001b[0m\u001b[0m\n\u001b[0m",
      "\u001b[1;31mNameError\u001b[0m: name 'x' is not defined"
     ]
    }
   ],
   "source": [
    "print(x)\n",
    "#Error because x is a local variable"
   ]
  },
  {
   "cell_type": "code",
   "execution_count": 27,
   "metadata": {},
   "outputs": [
    {
     "name": "stdout",
     "output_type": "stream",
     "text": [
      "3\n"
     ]
    }
   ],
   "source": [
    "print(number)\n",
    "#Because number is a global variable"
   ]
  },
  {
   "cell_type": "code",
   "execution_count": 28,
   "metadata": {},
   "outputs": [
    {
     "name": "stdout",
     "output_type": "stream",
     "text": [
      "3\n",
      "30\n",
      "3\n"
     ]
    }
   ],
   "source": [
    "#You can also print number insinde of the function, again because it is a global variable\n",
    "def TimesTen(x):\n",
    "    \"\"\"Multiply a number by 10\"\"\"\n",
    "    print(x)\n",
    "    x *= 10\n",
    "    print(x)\n",
    "    print(number)\n",
    "number = 3\n",
    "TimesTen(number)"
   ]
  },
  {
   "cell_type": "code",
   "execution_count": 29,
   "metadata": {},
   "outputs": [
    {
     "name": "stdout",
     "output_type": "stream",
     "text": [
      "3\n",
      "3\n"
     ]
    }
   ],
   "source": [
    "def TimesTen(x):\n",
    "    \"\"\"Multiply a number by 10\"\"\"\n",
    "    print(number)\n",
    "    x *= 10\n",
    "    print(number)\n",
    "number = 3\n",
    "TimesTen(number)\n",
    "\n",
    "#This is because we are working with immutable data"
   ]
  },
  {
   "cell_type": "code",
   "execution_count": 34,
   "metadata": {},
   "outputs": [
    {
     "name": "stdout",
     "output_type": "stream",
     "text": [
      "Current value: 3\n",
      "Updated value: 30\n",
      "Outside of a function: 30\n"
     ]
    }
   ],
   "source": [
    "def TimesTen(x):\n",
    "    \"\"\"Multiply a number by 10\"\"\"\n",
    "    print(\"Current value: \" + str(x))\n",
    "    x *= 10\n",
    "    print(\"Updated value: \" + str(x))\n",
    "    return x\n",
    "\n",
    "number = 3\n",
    "number = TimesTen(number)\n",
    "print(\"Outside of a function: \" + str(number))"
   ]
  },
  {
   "cell_type": "code",
   "execution_count": 35,
   "metadata": {},
   "outputs": [
    {
     "name": "stdout",
     "output_type": "stream",
     "text": [
      "hello, how are you doing today?\n"
     ]
    }
   ],
   "source": [
    "def CharReplace(word):\n",
    "    \"\"\"replace specific characters in a string with other characters\"\"\"\n",
    "    while 'a' in word:\n",
    "        word = word.replace('a', '@')\n",
    "    while 'e' in word:\n",
    "        word = word.replace('e', '3')\n",
    "    while 'i' in word:\n",
    "        word = word.replace('i', '!')\n",
    "    while 'o' in word:\n",
    "        word = word.replace('o', '0')\n",
    "    while 'u' in word:\n",
    "        word = word.replace('u', '#')\n",
    "    print(word)\n",
    "\n",
    "phrase = \"hello, how are you doing today?\"\n",
    "print(phrase)"
   ]
  },
  {
   "cell_type": "code",
   "execution_count": 36,
   "metadata": {},
   "outputs": [
    {
     "name": "stdout",
     "output_type": "stream",
     "text": [
      "hello, how are you doing today?\n",
      "h3ll0, h0w @r3 y0# d0!ng t0d@y?\n"
     ]
    }
   ],
   "source": [
    "print(phrase)\n",
    "CharReplace(phrase)"
   ]
  },
  {
   "cell_type": "code",
   "execution_count": 37,
   "metadata": {},
   "outputs": [
    {
     "name": "stdout",
     "output_type": "stream",
     "text": [
      "hello, how are you doing today?\n",
      "h3ll0, h0w @r3 y0# d0!ng t0d@y?\n",
      "hello, how are you doing today?\n"
     ]
    }
   ],
   "source": [
    "print(phrase)\n",
    "CharReplace(phrase)\n",
    "print(phrase)"
   ]
  },
  {
   "cell_type": "code",
   "execution_count": 38,
   "metadata": {},
   "outputs": [
    {
     "name": "stdout",
     "output_type": "stream",
     "text": [
      "hello, how are you doing today?\n",
      "h3ll0, h0w @r3 y0# d0!ng t0d@y?\n"
     ]
    }
   ],
   "source": [
    "def CharReplace(word):\n",
    "    \"\"\"replace specific characters in a string with other characters\"\"\"\n",
    "    while 'a' in word:\n",
    "        word = word.replace('a', '@')\n",
    "    while 'e' in word:\n",
    "        word = word.replace('e', '3')\n",
    "    while 'i' in word:\n",
    "        word = word.replace('i', '!')\n",
    "    while 'o' in word:\n",
    "        word = word.replace('o', '0')\n",
    "    while 'u' in word:\n",
    "        word = word.replace('u', '#')\n",
    "    return word\n",
    "\n",
    "phrase = \"hello, how are you doing today?\"\n",
    "print(phrase)\n",
    "phrase = CharReplace(phrase)\n",
    "print(phrase)"
   ]
  },
  {
   "cell_type": "code",
   "execution_count": 40,
   "metadata": {},
   "outputs": [
    {
     "ename": "NameError",
     "evalue": "name 'word' is not defined",
     "output_type": "error",
     "traceback": [
      "\u001b[1;31m---------------------------------------------------------------------------\u001b[0m",
      "\u001b[1;31mNameError\u001b[0m                                 Traceback (most recent call last)",
      "\u001b[1;32m<ipython-input-40-8a856358fbd2>\u001b[0m in \u001b[0;36m<module>\u001b[1;34m\u001b[0m\n\u001b[0;32m      1\u001b[0m \u001b[1;31m#word is a local variable\u001b[0m\u001b[1;33m\u001b[0m\u001b[1;33m\u001b[0m\u001b[1;33m\u001b[0m\u001b[0m\n\u001b[1;32m----> 2\u001b[1;33m \u001b[0mprint\u001b[0m\u001b[1;33m(\u001b[0m\u001b[0mword\u001b[0m\u001b[1;33m)\u001b[0m\u001b[1;33m\u001b[0m\u001b[1;33m\u001b[0m\u001b[0m\n\u001b[0m",
      "\u001b[1;31mNameError\u001b[0m: name 'word' is not defined"
     ]
    }
   ],
   "source": [
    "#word is a local variable\n",
    "print(word)"
   ]
  },
  {
   "cell_type": "code",
   "execution_count": 43,
   "metadata": {},
   "outputs": [
    {
     "name": "stdout",
     "output_type": "stream",
     "text": [
      "['john', 'jack', 'jill', 'james']\n"
     ]
    }
   ],
   "source": [
    "# Local and Global Variables - Lists and Dictionaries... Mutable Data\n",
    "\n",
    "def RemoveNames(names):\n",
    "    \"\"\"Remove a name from a List\"\"\"\n",
    "    removedName = names.pop()\n",
    "    print(\"Goodbye \" + removedName.title() + \".\")\n",
    "\n",
    "friends = ['john', 'jack','jill','james']\n",
    "print(friends)"
   ]
  },
  {
   "cell_type": "code",
   "execution_count": 44,
   "metadata": {},
   "outputs": [
    {
     "name": "stdout",
     "output_type": "stream",
     "text": [
      "Goodbye James.\n"
     ]
    }
   ],
   "source": [
    "RemoveNames(friends)"
   ]
  },
  {
   "cell_type": "code",
   "execution_count": 46,
   "metadata": {},
   "outputs": [
    {
     "name": "stdout",
     "output_type": "stream",
     "text": [
      "['john', 'jack', 'jill', 'james']\n",
      "Goodbye James.\n",
      "['john', 'jack', 'jill']\n"
     ]
    }
   ],
   "source": [
    "# Local and Global Variables - Lists and Dictionaries... Mutable Data\n",
    "\n",
    "def RemoveNames(names):\n",
    "    \"\"\"Remove a name from a List\"\"\"\n",
    "    removedName = names.pop()\n",
    "    print(\"Goodbye \" + removedName.title() + \".\")\n",
    "    print(names)\n",
    "    \n",
    "\n",
    "friends = ['john', 'jack','jill','james']\n",
    "print(friends)\n",
    "RemoveNames(friends)"
   ]
  },
  {
   "cell_type": "code",
   "execution_count": 47,
   "metadata": {},
   "outputs": [
    {
     "name": "stdout",
     "output_type": "stream",
     "text": [
      "['john', 'jack', 'jill']\n"
     ]
    }
   ],
   "source": [
    "print(friends)"
   ]
  },
  {
   "cell_type": "code",
   "execution_count": 48,
   "metadata": {},
   "outputs": [
    {
     "name": "stdout",
     "output_type": "stream",
     "text": [
      "10\n",
      "10\n"
     ]
    }
   ],
   "source": [
    "def AddTwo(num):\n",
    "    \"\"\"Add two to a number\"\"\"\n",
    "    num += 2\n",
    "\n",
    "value = 10\n",
    "print(value)\n",
    "AddTwo(value)\n",
    "print(value)"
   ]
  },
  {
   "cell_type": "code",
   "execution_count": 49,
   "metadata": {},
   "outputs": [
    {
     "name": "stdout",
     "output_type": "stream",
     "text": [
      "10\n",
      "12\n"
     ]
    }
   ],
   "source": [
    "#If you want the changes to reflect then do the ff:\n",
    "def AddTwo(num):\n",
    "    \"\"\"Add two to a number\"\"\"\n",
    "    num += 2\n",
    "    return num #This one\n",
    "\n",
    "value = 10\n",
    "print(value)\n",
    "value = AddTwo(value) #This one\n",
    "print(value)"
   ]
  },
  {
   "cell_type": "code",
   "execution_count": 50,
   "metadata": {},
   "outputs": [
    {
     "name": "stdout",
     "output_type": "stream",
     "text": [
      "[1, 2, 3, 4, 5]\n"
     ]
    }
   ],
   "source": [
    "nums = [1,2,3,4]\n",
    "newNums = nums\n",
    "newNums.append(5)\n",
    "print(nums)"
   ]
  },
  {
   "cell_type": "code",
   "execution_count": 51,
   "metadata": {},
   "outputs": [
    {
     "name": "stdout",
     "output_type": "stream",
     "text": [
      "[1, 2, 3, 4]\n"
     ]
    }
   ],
   "source": [
    "#making a copy:\n",
    "nums = [1,2,3,4]\n",
    "newNums = nums[:]\n",
    "newNums.append(5)\n",
    "print(nums)"
   ]
  },
  {
   "cell_type": "code",
   "execution_count": 53,
   "metadata": {},
   "outputs": [
    {
     "name": "stdout",
     "output_type": "stream",
     "text": [
      "[1, 2, 3, 4]\n"
     ]
    }
   ],
   "source": [
    "#making a copy:\n",
    "nums = [1,2,3,4]\n",
    "newNums = nums.copy()\n",
    "newNums.append(5)\n",
    "print(nums)"
   ]
  },
  {
   "cell_type": "code",
   "execution_count": 55,
   "metadata": {},
   "outputs": [
    {
     "name": "stdout",
     "output_type": "stream",
     "text": [
      "['john', 'jack', 'jill', 'james']\n",
      "Goodbye James.\n",
      "['john', 'jack', 'jill', 'james']\n",
      "['john', 'jack', 'jill']\n"
     ]
    }
   ],
   "source": [
    "# Local and Global Variables - Lists and Dictionaries... Mutable Data\n",
    "\n",
    "def RemoveNames(names):\n",
    "    \"\"\"Remove a name from a List\"\"\"\n",
    "    removedName = names.pop()\n",
    "    print(\"Goodbye \" + removedName.title() + \".\")\n",
    "    return names # eto babaguhin\n",
    "    \n",
    "\n",
    "friends = ['john', 'jack','jill','james']\n",
    "print(friends)\n",
    "newFriends = RemoveNames(friends.copy())\n",
    "print(friends)\n",
    "print(newFriends)"
   ]
  },
  {
   "cell_type": "code",
   "execution_count": null,
   "metadata": {},
   "outputs": [],
   "source": []
  }
 ],
 "metadata": {
  "kernelspec": {
   "display_name": "Python 3",
   "language": "python",
   "name": "python3"
  },
  "language_info": {
   "codemirror_mode": {
    "name": "ipython",
    "version": 3
   },
   "file_extension": ".py",
   "mimetype": "text/x-python",
   "name": "python",
   "nbconvert_exporter": "python",
   "pygments_lexer": "ipython3",
   "version": "3.8.3"
  }
 },
 "nbformat": 4,
 "nbformat_minor": 4
}
