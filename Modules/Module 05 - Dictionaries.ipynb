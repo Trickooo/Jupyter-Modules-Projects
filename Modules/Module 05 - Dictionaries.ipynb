{
 "cells": [
  {
   "cell_type": "markdown",
   "metadata": {},
   "source": [
    "## Dictionaries\n",
    "\n",
    "In this module, we will introduce a new data type: the dictionary. A dictionary is a collection of associated key-value pairs. We can access any value in a dictionary by specifying the key associated with it. We will learn how to:\n",
    "\n",
    "* Define a dictionary\n",
    "* Access values associated with specific keys within a dictionary.\n",
    "* Add, remove, or alter key-value pairs within a dictionary.\n",
    "* Dynamically build a dictionary.\n",
    "* Loop through the keys of, the values of, or the keys and values of a dictionary.\n",
    "* Use the set() function to remove repeated values from a list.\n",
    "* Create complicated nested dictionaries and lists.\n",
    "* From the collections library, use a Counter to determine the number of occurrences of each element in a list.\n",
    "\n",
    "### Data Types\n",
    "\n",
    "<b> Done </b>\n",
    "* Strings: A series of characters \n",
    "* Integers: Whole Numbers\n",
    "* Floats: Decimal Numbers\n",
    "* Lists: A mutable collection\n",
    "* Tuples: An immutable collection\n",
    "* Ranges: A sequence of integers\n",
    "\n",
    "<b> For Today </b>\n",
    "* Dictionaries: A collection of associated key-value pairs\n",
    "\n",
    "### Control Flow\n",
    "\n",
    "* For Loops\n",
    "* If Statements\n",
    "* If/Else Statements\n",
    "* If/Elif/Else Stataments\n",
    "* Break\n",
    "* Pass\n",
    "* Continue\n",
    "\n",
    "### Built In Functions\n",
    "\n",
    "* print()\n",
    "* type()\n",
    "* str()\n",
    "* int()\n",
    "* float()\n",
    "* input()\n",
    "* round()\n",
    "* sorted\n",
    "* len()\n",
    "* range()\n",
    "* list()\n",
    "* min()\n",
    "* max()\n",
    "* sum()\n",
    "* zip()\n",
    "* bin()\n",
    "* hex()\n",
    "\n",
    "<b> New Functions for today </b>\n",
    "* set() - Allows us to remove any repeated elements in a list\n",
    "\n",
    "### Methods\n",
    "\n",
    "<b> Strings: </b>\n",
    "* .upper()\n",
    "* .lower()\n",
    "* .title()\n",
    "* .strip()\n",
    "* .count()\n",
    "* .join() <b> \n",
    "* .replace()</b>\n",
    "\n",
    "<b> Lists: </b>\n",
    "* .append()\n",
    "* .insert()\n",
    "* .pop()\n",
    "* .remove()\n",
    "* .sort()\n",
    "* .reverse() \n",
    "* .copy() <b>\n",
    "* .index() </b>\n",
    "\n",
    "<b>Dictionaries:</b> <b>\n",
    "\n",
    "* .items()\n",
    "* .keys()\n",
    "* .values()\n",
    "* .most_common() </b>\n",
    "\n",
    "\n",
    "<b> External Libraries </b>\n",
    "* math\n",
    "* datetime\n",
    "* cmath\n",
    "* random <b>\n",
    "* collections </b>\n",
    "\n",
    "### Codelabs\n",
    "    \n",
    "\n",
    "\n",
    "\n"
   ]
  },
  {
   "cell_type": "markdown",
   "metadata": {},
   "source": [
    "## A new data type - Dictionaries\n",
    "\n",
    "Dictionary - a dictionary maps a set of objects called keys to another set of objects called values. Dictionaries are immutable which means they can be changed and the values that the keys point to can actually be any python value. This means we can use integers float strings lists or even other dictionaries as our values. Dictionaries are also unordered. So the order that the keys are added doesn't necessarily reflect the order that they may be reported back. Now notation wise we saw that lists use square brackets tuples uses parentheses and a dictionary uses curly braces here.\n",
    "\n",
    "list []\n",
    "tuple()\n",
    "dictionary {}\n",
    "\n",
    "Let's create a dictionary to store Bob's info.:"
   ]
  },
  {
   "cell_type": "code",
   "execution_count": 2,
   "metadata": {},
   "outputs": [
    {
     "name": "stdout",
     "output_type": "stream",
     "text": [
      "{'firstName': 'Bob', 'lastName': 'Jones', 'age': 27, 'favColors': ['green', 'orange']}\n",
      "<class 'dict'>\n"
     ]
    }
   ],
   "source": [
    "bobInfo = {\n",
    "    \"firstName\" : \"Bob\",\n",
    "    \"lastName\" : \"Jones\",\n",
    "    \"age\" : 27,\n",
    "    \"favColors\" : ['green', 'orange'],\n",
    "}\n",
    "\n",
    "print(bobInfo)\n",
    "print(type(bobInfo))"
   ]
  },
  {
   "cell_type": "code",
   "execution_count": 3,
   "metadata": {},
   "outputs": [
    {
     "name": "stdout",
     "output_type": "stream",
     "text": [
      "27\n"
     ]
    }
   ],
   "source": [
    "print(bobInfo['age'])"
   ]
  },
  {
   "cell_type": "code",
   "execution_count": 4,
   "metadata": {},
   "outputs": [
    {
     "ename": "NameError",
     "evalue": "name 'age' is not defined",
     "output_type": "error",
     "traceback": [
      "\u001b[1;31m---------------------------------------------------------------------------\u001b[0m",
      "\u001b[1;31mNameError\u001b[0m                                 Traceback (most recent call last)",
      "\u001b[1;32m<ipython-input-4-1e270e9a4f32>\u001b[0m in \u001b[0;36m<module>\u001b[1;34m\u001b[0m\n\u001b[1;32m----> 1\u001b[1;33m \u001b[0mprint\u001b[0m\u001b[1;33m(\u001b[0m\u001b[0mbobInfo\u001b[0m\u001b[1;33m[\u001b[0m\u001b[0mage\u001b[0m\u001b[1;33m]\u001b[0m\u001b[1;33m)\u001b[0m\u001b[1;33m\u001b[0m\u001b[1;33m\u001b[0m\u001b[0m\n\u001b[0m",
      "\u001b[1;31mNameError\u001b[0m: name 'age' is not defined"
     ]
    }
   ],
   "source": [
    "print(bobInfo[age])"
   ]
  },
  {
   "cell_type": "code",
   "execution_count": 5,
   "metadata": {},
   "outputs": [
    {
     "name": "stdout",
     "output_type": "stream",
     "text": [
      "['green', 'orange']\n"
     ]
    }
   ],
   "source": [
    "print(bobInfo['favColors'])"
   ]
  },
  {
   "cell_type": "code",
   "execution_count": 6,
   "metadata": {},
   "outputs": [
    {
     "name": "stdout",
     "output_type": "stream",
     "text": [
      "green\n"
     ]
    }
   ],
   "source": [
    "print(bobInfo['favColors'][0])"
   ]
  },
  {
   "cell_type": "markdown",
   "metadata": {},
   "source": [
    "Dictionaries are not static objects like tuples we can alter them as we please. We can add new key value pairs remove key value pairs or update existing key value pairs to add a new key value pair we have to give our new key and assign an associated value.\n",
    "\n",
    "\n",
    "Let's add Bob's weight and height to our dictionary."
   ]
  },
  {
   "cell_type": "code",
   "execution_count": 10,
   "metadata": {},
   "outputs": [
    {
     "name": "stdout",
     "output_type": "stream",
     "text": [
      "{'firstName': 'Bob', 'lastName': 'Jones', 'age': 27, 'favColors': ['green', 'orange'], 'weight': 180, 'height': 72.6}\n"
     ]
    }
   ],
   "source": [
    "bobInfo['weight'] = 180\n",
    "bobInfo['height'] = 72.6\n",
    "\n",
    "print(bobInfo)"
   ]
  },
  {
   "cell_type": "markdown",
   "metadata": {},
   "source": [
    "By providing our dictionary a new key in square brackets we can add key value pairs to the dictionary if however we want to provide a key that is are ready in the dictionary we will instead update its current value.\n",
    "\n",
    "Let's say Bob lost some weight and this time we're gonna see how we can incorporate dictionary values into print statements.\n"
   ]
  },
  {
   "cell_type": "code",
   "execution_count": 11,
   "metadata": {},
   "outputs": [
    {
     "name": "stdout",
     "output_type": "stream",
     "text": [
      "Wow Bob, you lost some weight. You now weigh 175\n"
     ]
    }
   ],
   "source": [
    "bobInfo['weight'] -= 5\n",
    "print(\"Wow \" + bobInfo['firstName'] + \", you lost some weight. You now weigh \" + str(bobInfo['weight']))"
   ]
  },
  {
   "cell_type": "code",
   "execution_count": 13,
   "metadata": {},
   "outputs": [
    {
     "name": "stdout",
     "output_type": "stream",
     "text": [
      "Happy Birthday Bob, you are now 28 years old.\n"
     ]
    }
   ],
   "source": [
    "bobInfo['age'] += 1\n",
    "print(\"Happy Birthday \" + bobInfo['firstName'] + \", you are now \" + str(bobInfo['age']) + \" years old.\")"
   ]
  },
  {
   "cell_type": "code",
   "execution_count": 14,
   "metadata": {},
   "outputs": [
    {
     "name": "stdout",
     "output_type": "stream",
     "text": [
      "{'firstName': 'Bob', 'lastName': 'Jones', 'age': 28, 'weight': 176, 'height': 72.6}\n"
     ]
    }
   ],
   "source": [
    "del bobInfo['favColors']\n",
    "print(bobInfo)"
   ]
  },
  {
   "cell_type": "code",
   "execution_count": 16,
   "metadata": {},
   "outputs": [
    {
     "name": "stdout",
     "output_type": "stream",
     "text": [
      "What is your name: Ryan\n",
      "How old are you: 19\n",
      "Enter your job title: Instructor\n",
      "{'name': 'Ryan', 'age': '19', 'job': 'Instructor'}\n"
     ]
    }
   ],
   "source": [
    "#build a dictionary dynamically\n",
    "userInfo = {}\n",
    "userInfo['name'] = input(\"What is your name: \").title()\n",
    "userInfo['age'] = input(\"How old are you: \")\n",
    "userInfo['job'] = input(\"Enter your job title: \").title()\n",
    "print(userInfo)"
   ]
  },
  {
   "cell_type": "markdown",
   "metadata": {},
   "source": [
    "### Looping through a Dictionary"
   ]
  },
  {
   "cell_type": "code",
   "execution_count": 2,
   "metadata": {},
   "outputs": [
    {
     "name": "stdout",
     "output_type": "stream",
     "text": [
      "{'john': 'blue', 'gabe': 'orange', 'mary': 'yellow', 'mike': 'purple', 'lucas': 'yellow', 'sarah': 'green'}\n"
     ]
    }
   ],
   "source": [
    "favColors = {\n",
    "    'john':'blue',\n",
    "    'gabe':'orange',\n",
    "    'mary':'yellow',\n",
    "    'mike':'purple',\n",
    "    'lucas':'yellow',\n",
    "    'sarah':'green',\n",
    "}\n",
    "\n",
    "\n",
    "# Methods that we are going to talk about = .keys(), .items(), .values()\n",
    "print(favColors)"
   ]
  },
  {
   "cell_type": "code",
   "execution_count": 3,
   "metadata": {},
   "outputs": [
    {
     "name": "stdout",
     "output_type": "stream",
     "text": [
      "dict_items([('john', 'blue'), ('gabe', 'orange'), ('mary', 'yellow'), ('mike', 'purple'), ('lucas', 'yellow'), ('sarah', 'green')])\n"
     ]
    }
   ],
   "source": [
    "#use the .items method to get a certain subset of this dictionary. The .items method will actually return a list\n",
    "\n",
    "favColorsList = favColors.items()\n",
    "print(favColorsList)\n",
    "\n",
    "#After running - the list is return from the dot items as the list of key value pairs we can use this \n",
    "#list in conjunction with a for loop to loop through all of the key value pairs using the following syntax."
   ]
  },
  {
   "cell_type": "code",
   "execution_count": 4,
   "metadata": {},
   "outputs": [
    {
     "name": "stdout",
     "output_type": "stream",
     "text": [
      "The key john has an associated value of blue.\n",
      "The key gabe has an associated value of orange.\n",
      "The key mary has an associated value of yellow.\n",
      "The key mike has an associated value of purple.\n",
      "The key lucas has an associated value of yellow.\n",
      "The key sarah has an associated value of green.\n"
     ]
    }
   ],
   "source": [
    "for key, value in favColors.items():\n",
    "    print(\"The key \" + key + \" has an associated value of \" + value + \".\")"
   ]
  },
  {
   "cell_type": "markdown",
   "metadata": {},
   "source": [
    "Explain:\n",
    "you might get an error if you only provide one. Now if we want to work with just the keys of the dictionary right now we're working with both of them, we can call the .keys method.\n",
    "\n",
    "This method returns of list of the keys from our dictionary.\n",
    "\n",
    "Code below:\n",
    "We are going to make a new variable favColorsKeys and well set this equal to the .keys method and print"
   ]
  },
  {
   "cell_type": "code",
   "execution_count": 5,
   "metadata": {},
   "outputs": [
    {
     "name": "stdout",
     "output_type": "stream",
     "text": [
      "dict_keys(['john', 'gabe', 'mary', 'mike', 'lucas', 'sarah'])\n"
     ]
    }
   ],
   "source": [
    "favColorsKeys = favColors.keys()\n",
    "print(favColorsKeys)"
   ]
  },
  {
   "cell_type": "markdown",
   "metadata": {},
   "source": [
    "Explain:\n",
    "    so if you look here the result of this we get a list says dictionary keys and our list is just the users. \n",
    "    \n",
    "    And now I can loop through this list if I wanted to."
   ]
  },
  {
   "cell_type": "code",
   "execution_count": 6,
   "metadata": {},
   "outputs": [
    {
     "name": "stdout",
     "output_type": "stream",
     "text": [
      "John, thank you for taking the survey.\n",
      "Gabe, thank you for taking the survey.\n",
      "Mary, thank you for taking the survey.\n",
      "Mike, thank you for taking the survey.\n",
      "Lucas, thank you for taking the survey.\n",
      "Sarah, thank you for taking the survey.\n"
     ]
    }
   ],
   "source": [
    "for key in favColors.keys():\n",
    "    print(key.title() + \", thank you for taking the survey.\")"
   ]
  },
  {
   "cell_type": "code",
   "execution_count": 7,
   "metadata": {},
   "outputs": [
    {
     "name": "stdout",
     "output_type": "stream",
     "text": [
      "John, thank you for taking the survey.\n",
      "Gabe, thank you for taking the survey.\n",
      "Mary, thank you for taking the survey.\n",
      "Mike, thank you for taking the survey.\n",
      "Lucas, thank you for taking the survey.\n",
      "Sarah, thank you for taking the survey.\n"
     ]
    }
   ],
   "source": [
    "#change the variable to something human readable\n",
    "\n",
    "for name in favColors.keys():\n",
    "    print(name.title() + \", thank you for taking the survey.\")"
   ]
  },
  {
   "cell_type": "code",
   "execution_count": 9,
   "metadata": {},
   "outputs": [
    {
     "name": "stdout",
     "output_type": "stream",
     "text": [
      "Brooke, you should take the survey\n"
     ]
    }
   ],
   "source": [
    "if 'brooke' not in favColors.keys():\n",
    "    print(\"Brooke, you should take the survey\")"
   ]
  },
  {
   "cell_type": "code",
   "execution_count": 10,
   "metadata": {},
   "outputs": [
    {
     "name": "stdout",
     "output_type": "stream",
     "text": [
      "John, thank you for taking the survey.\n",
      "Gabe, thank you for taking the survey.\n",
      "Mary, thank you for taking the survey.\n",
      "Mike, thank you for taking the survey.\n",
      "Lucas, thank you for taking the survey.\n",
      "Brooke, thank you for taking the survey.\n"
     ]
    }
   ],
   "source": [
    "favColors = {\n",
    "    'john':'blue',\n",
    "    'gabe':'orange',\n",
    "    'mary':'yellow',\n",
    "    'mike':'purple',\n",
    "    'lucas':'yellow',\n",
    "    'brooke':'green',\n",
    "}\n",
    "\n",
    "for name in favColors.keys():\n",
    "    print(name.title() + \", thank you for taking the survey.\")\n",
    "    \n",
    "if 'brooke' not in favColors.keys():\n",
    "    print(\"Brooke, you should take the survey\")"
   ]
  },
  {
   "cell_type": "code",
   "execution_count": 13,
   "metadata": {},
   "outputs": [],
   "source": [
    "favColors = {\n",
    "    'john':'blue',\n",
    "    'gabe':'orange',\n",
    "    'mary':'yellow',\n",
    "    'mike':'purple',\n",
    "    'lucas':'yellow',\n",
    "    'sarah':'green',\n",
    "}"
   ]
  },
  {
   "cell_type": "markdown",
   "metadata": {},
   "source": [
    "Explain:\n",
    "\n",
    "Now lastly if you only want to work with the values of the dictionary you can call the DOT values method. This method returns a list of the values from a dictionary."
   ]
  },
  {
   "cell_type": "code",
   "execution_count": 16,
   "metadata": {},
   "outputs": [
    {
     "name": "stdout",
     "output_type": "stream",
     "text": [
      "dict_values(['blue', 'orange', 'yellow', 'purple', 'yellow', 'green'])\n"
     ]
    }
   ],
   "source": [
    "favColorsValues = favColors.values()\n",
    "print(favColorsValues)"
   ]
  },
  {
   "cell_type": "code",
   "execution_count": 18,
   "metadata": {},
   "outputs": [
    {
     "name": "stdout",
     "output_type": "stream",
     "text": [
      "blue\n",
      "orange\n",
      "yellow\n",
      "purple\n",
      "yellow\n",
      "green\n"
     ]
    }
   ],
   "source": [
    "for value in favColors.values():\n",
    "    print(value)"
   ]
  },
  {
   "cell_type": "code",
   "execution_count": 19,
   "metadata": {},
   "outputs": [
    {
     "name": "stdout",
     "output_type": "stream",
     "text": [
      "\n",
      "The colors voted on were: \n",
      "blue\n",
      "orange\n",
      "purple\n",
      "yellow\n",
      "green\n"
     ]
    }
   ],
   "source": [
    "print(\"\\nThe colors voted on were: \")\n",
    "for value in set(favColors.values()):\n",
    "    print(value)"
   ]
  },
  {
   "cell_type": "markdown",
   "metadata": {},
   "source": [
    "### More Complex Dictionary Structure\n",
    "\n",
    "<b>Nesting Dictionaries"
   ]
  },
  {
   "cell_type": "code",
   "execution_count": 21,
   "metadata": {},
   "outputs": [
    {
     "name": "stdout",
     "output_type": "stream",
     "text": [
      "{'name': 'ryan', 'age': 19}\n",
      "{'name': 'alden', 'age': 27}\n",
      "{'name': 'catrice', 'age': 31}\n"
     ]
    }
   ],
   "source": [
    "user_0 = {\n",
    "    'name':'ryan',\n",
    "    'age':19,\n",
    "}\n",
    "\n",
    "user_1 = {\n",
    "    'name':'alden',\n",
    "    'age':27,\n",
    "}\n",
    "\n",
    "user_2 = {\n",
    "    'name':'catrice',\n",
    "    'age':31,\n",
    "}\n",
    "\n",
    "users = [user_0, user_1, user_2]\n",
    "\n",
    "#loop through the list and print each dictionary values\n",
    "for user in users:\n",
    "    print(user)\n",
    "\n",
    "#So were printing the entire dictionary\n"
   ]
  },
  {
   "cell_type": "code",
   "execution_count": 23,
   "metadata": {},
   "outputs": [
    {
     "name": "stdout",
     "output_type": "stream",
     "text": [
      "Name: Name\t\tAge: ryan\n",
      "Name: Age\t\tAge: 19\n",
      "Name: Name\t\tAge: alden\n",
      "Name: Age\t\tAge: 27\n",
      "Name: Name\t\tAge: catrice\n",
      "Name: Age\t\tAge: 31\n"
     ]
    }
   ],
   "source": [
    "for user in users:\n",
    "    for key,value in user.items():\n",
    "        print(\"Name: \" + key.title() + \"\\t\\tAge: \" + str(value))\n",
    "        \n"
   ]
  },
  {
   "cell_type": "code",
   "execution_count": 24,
   "metadata": {},
   "outputs": [
    {
     "name": "stdout",
     "output_type": "stream",
     "text": [
      "Name: ryan\n",
      "Age: 19\n",
      "Name: alden\n",
      "Age: 27\n",
      "Name: catrice\n",
      "Age: 31\n"
     ]
    }
   ],
   "source": [
    "# Fixing it:\n",
    "\n",
    "for user in users:\n",
    "    for key,value in user.items():\n",
    "        print(key.title() + \": \" + str(value))"
   ]
  },
  {
   "cell_type": "code",
   "execution_count": 25,
   "metadata": {},
   "outputs": [
    {
     "name": "stdout",
     "output_type": "stream",
     "text": [
      "Name: ryan\n",
      "Age: 19\n",
      "\n",
      "\n",
      "Name: alden\n",
      "Age: 27\n",
      "\n",
      "\n",
      "Name: catrice\n",
      "Age: 31\n",
      "\n",
      "\n"
     ]
    }
   ],
   "source": [
    "for user in users:\n",
    "    for key,value in user.items():\n",
    "        print(key.title() + \": \" + str(value))\n",
    "    print(\"\\n\")"
   ]
  },
  {
   "cell_type": "markdown",
   "metadata": {},
   "source": [
    "Explain:\n",
    "\n",
    "Now this can be more powerful if we start with a blank list. Imagine we want to lay the foundation for a program that's going to have 100 user accounts. "
   ]
  },
  {
   "cell_type": "code",
   "execution_count": 26,
   "metadata": {},
   "outputs": [
    {
     "name": "stdout",
     "output_type": "stream",
     "text": [
      "{'name': 'NA', 'age': 0}\n",
      "{'name': 'NA', 'age': 0}\n",
      "{'name': 'NA', 'age': 0}\n",
      "{'name': 'NA', 'age': 0}\n",
      "{'name': 'NA', 'age': 0}\n",
      "{'name': 'NA', 'age': 0}\n",
      "{'name': 'NA', 'age': 0}\n",
      "{'name': 'NA', 'age': 0}\n",
      "{'name': 'NA', 'age': 0}\n",
      "{'name': 'NA', 'age': 0}\n",
      "{'name': 'NA', 'age': 0}\n",
      "{'name': 'NA', 'age': 0}\n",
      "{'name': 'NA', 'age': 0}\n",
      "{'name': 'NA', 'age': 0}\n",
      "{'name': 'NA', 'age': 0}\n",
      "{'name': 'NA', 'age': 0}\n",
      "{'name': 'NA', 'age': 0}\n",
      "{'name': 'NA', 'age': 0}\n",
      "{'name': 'NA', 'age': 0}\n",
      "{'name': 'NA', 'age': 0}\n",
      "{'name': 'NA', 'age': 0}\n",
      "{'name': 'NA', 'age': 0}\n",
      "{'name': 'NA', 'age': 0}\n",
      "{'name': 'NA', 'age': 0}\n",
      "{'name': 'NA', 'age': 0}\n",
      "{'name': 'NA', 'age': 0}\n",
      "{'name': 'NA', 'age': 0}\n",
      "{'name': 'NA', 'age': 0}\n",
      "{'name': 'NA', 'age': 0}\n",
      "{'name': 'NA', 'age': 0}\n",
      "{'name': 'NA', 'age': 0}\n",
      "{'name': 'NA', 'age': 0}\n",
      "{'name': 'NA', 'age': 0}\n",
      "{'name': 'NA', 'age': 0}\n",
      "{'name': 'NA', 'age': 0}\n",
      "{'name': 'NA', 'age': 0}\n",
      "{'name': 'NA', 'age': 0}\n",
      "{'name': 'NA', 'age': 0}\n",
      "{'name': 'NA', 'age': 0}\n",
      "{'name': 'NA', 'age': 0}\n",
      "{'name': 'NA', 'age': 0}\n",
      "{'name': 'NA', 'age': 0}\n",
      "{'name': 'NA', 'age': 0}\n",
      "{'name': 'NA', 'age': 0}\n",
      "{'name': 'NA', 'age': 0}\n",
      "{'name': 'NA', 'age': 0}\n",
      "{'name': 'NA', 'age': 0}\n",
      "{'name': 'NA', 'age': 0}\n",
      "{'name': 'NA', 'age': 0}\n",
      "{'name': 'NA', 'age': 0}\n",
      "{'name': 'NA', 'age': 0}\n",
      "{'name': 'NA', 'age': 0}\n",
      "{'name': 'NA', 'age': 0}\n",
      "{'name': 'NA', 'age': 0}\n",
      "{'name': 'NA', 'age': 0}\n",
      "{'name': 'NA', 'age': 0}\n",
      "{'name': 'NA', 'age': 0}\n",
      "{'name': 'NA', 'age': 0}\n",
      "{'name': 'NA', 'age': 0}\n",
      "{'name': 'NA', 'age': 0}\n",
      "{'name': 'NA', 'age': 0}\n",
      "{'name': 'NA', 'age': 0}\n",
      "{'name': 'NA', 'age': 0}\n",
      "{'name': 'NA', 'age': 0}\n",
      "{'name': 'NA', 'age': 0}\n",
      "{'name': 'NA', 'age': 0}\n",
      "{'name': 'NA', 'age': 0}\n",
      "{'name': 'NA', 'age': 0}\n",
      "{'name': 'NA', 'age': 0}\n",
      "{'name': 'NA', 'age': 0}\n",
      "{'name': 'NA', 'age': 0}\n",
      "{'name': 'NA', 'age': 0}\n",
      "{'name': 'NA', 'age': 0}\n",
      "{'name': 'NA', 'age': 0}\n",
      "{'name': 'NA', 'age': 0}\n",
      "{'name': 'NA', 'age': 0}\n",
      "{'name': 'NA', 'age': 0}\n",
      "{'name': 'NA', 'age': 0}\n",
      "{'name': 'NA', 'age': 0}\n",
      "{'name': 'NA', 'age': 0}\n",
      "{'name': 'NA', 'age': 0}\n",
      "{'name': 'NA', 'age': 0}\n",
      "{'name': 'NA', 'age': 0}\n",
      "{'name': 'NA', 'age': 0}\n",
      "{'name': 'NA', 'age': 0}\n",
      "{'name': 'NA', 'age': 0}\n",
      "{'name': 'NA', 'age': 0}\n",
      "{'name': 'NA', 'age': 0}\n",
      "{'name': 'NA', 'age': 0}\n",
      "{'name': 'NA', 'age': 0}\n",
      "{'name': 'NA', 'age': 0}\n",
      "{'name': 'NA', 'age': 0}\n",
      "{'name': 'NA', 'age': 0}\n",
      "{'name': 'NA', 'age': 0}\n",
      "{'name': 'NA', 'age': 0}\n",
      "{'name': 'NA', 'age': 0}\n",
      "{'name': 'NA', 'age': 0}\n",
      "{'name': 'NA', 'age': 0}\n",
      "{'name': 'NA', 'age': 0}\n",
      "{'name': 'NA', 'age': 0}\n"
     ]
    }
   ],
   "source": [
    "users = []\n",
    "for user in range(100):\n",
    "    newUser = {'name':'NA', 'age':0}\n",
    "    users.append(newUser)\n",
    "\n",
    "#Just to check    \n",
    "for user in users:\n",
    "    print(user)"
   ]
  },
  {
   "cell_type": "code",
   "execution_count": 27,
   "metadata": {},
   "outputs": [
    {
     "name": "stdout",
     "output_type": "stream",
     "text": [
      "{'name': 'NA', 'age': 0}\n",
      "{'name': 'NA', 'age': 0}\n",
      "{'name': 'NA', 'age': 0}\n",
      "{'name': 'NA', 'age': 0}\n",
      "{'name': 'NA', 'age': 0}\n",
      "{'name': 'NA', 'age': 0}\n",
      "{'name': 'NA', 'age': 0}\n",
      "{'name': 'NA', 'age': 0}\n",
      "{'name': 'NA', 'age': 0}\n",
      "{'name': 'NA', 'age': 0}\n"
     ]
    }
   ],
   "source": [
    "for user in users[:10]:\n",
    "    print(user)"
   ]
  },
  {
   "cell_type": "code",
   "execution_count": 29,
   "metadata": {},
   "outputs": [
    {
     "name": "stdout",
     "output_type": "stream",
     "text": [
      "\n",
      "Bill's friends are:' \n",
      "\tJohn\n",
      "\tTom\n",
      "\tMary\n",
      "\n",
      "Tom's friends are:' \n",
      "\tJohn\n",
      "\tBill\n",
      "\tSue\n",
      "\n",
      "Mary's friends are:' \n",
      "\tSue\n",
      "\tBill\n",
      "\tTom\n"
     ]
    }
   ],
   "source": [
    "friends ={\n",
    "    'bill':['john', 'tom', 'mary'],\n",
    "    'tom':['john', 'bill', 'sue'],\n",
    "    'mary':['sue', 'bill', 'tom'],\n",
    "}\n",
    "\n",
    "for key,values in friends.items():\n",
    "    print(\"\\n\" + key.title() + \"'s friends are:' \")\n",
    "    for value in values:\n",
    "        print(\"\\t\" + value.title())"
   ]
  },
  {
   "cell_type": "code",
   "execution_count": 30,
   "metadata": {},
   "outputs": [
    {
     "name": "stdout",
     "output_type": "stream",
     "text": [
      "\n",
      "Username: msmith\n",
      "\n",
      "Username: ejones\n"
     ]
    }
   ],
   "source": [
    "userDirectory = {\n",
    "    'msmith':{\n",
    "        'firstName':'mark',\n",
    "        'lastName':'smith',\n",
    "        'age':27,\n",
    "    },\n",
    "    'ejones':{\n",
    "        'firstName':'eddie',\n",
    "        'lastName':'jones',\n",
    "        'age':42,\n",
    "    },    \n",
    "}\n",
    "\n",
    "for user, info in userDirectory.items():\n",
    "    print(\"\\nUsername: \" + user)"
   ]
  },
  {
   "cell_type": "code",
   "execution_count": 31,
   "metadata": {},
   "outputs": [
    {
     "name": "stdout",
     "output_type": "stream",
     "text": [
      "\n",
      "Username: msmith\n",
      "firstName: mark\n",
      "lastName: smith\n",
      "age: 27\n",
      "\n",
      "Username: ejones\n",
      "firstName: eddie\n",
      "lastName: jones\n",
      "age: 42\n"
     ]
    }
   ],
   "source": [
    "userDirectory = {\n",
    "    'msmith':{\n",
    "        'firstName':'mark',\n",
    "        'lastName':'smith',\n",
    "        'age':27,\n",
    "    },\n",
    "    'ejones':{\n",
    "        'firstName':'eddie',\n",
    "        'lastName':'jones',\n",
    "        'age':42,\n",
    "    },    \n",
    "}\n",
    "\n",
    "for user, info in userDirectory.items():\n",
    "    print(\"\\nUsername: \" + user)\n",
    "    for key, value in info.items():\n",
    "        print(key + \": \" + str(value))"
   ]
  },
  {
   "cell_type": "code",
   "execution_count": null,
   "metadata": {},
   "outputs": [],
   "source": []
  }
 ],
 "metadata": {
  "kernelspec": {
   "display_name": "Python 3",
   "language": "python",
   "name": "python3"
  },
  "language_info": {
   "codemirror_mode": {
    "name": "ipython",
    "version": 3
   },
   "file_extension": ".py",
   "mimetype": "text/x-python",
   "name": "python",
   "nbconvert_exporter": "python",
   "pygments_lexer": "ipython3",
   "version": "3.8.3"
  }
 },
 "nbformat": 4,
 "nbformat_minor": 4
}
