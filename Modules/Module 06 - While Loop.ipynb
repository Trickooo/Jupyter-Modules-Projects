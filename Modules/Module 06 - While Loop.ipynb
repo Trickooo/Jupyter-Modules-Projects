{
 "cells": [
  {
   "cell_type": "markdown",
   "metadata": {},
   "source": [
    "## While Loops\n",
    "\n",
    "### Unit Overview\n",
    "\n",
    "In this module we will learn another mechanism to control the flow of your programs - the while loop. While loops are similar to for loops except that they run while a specific condition is true. We will learn how to:\n",
    "\n",
    "* Implement while loops\n",
    "* Use active flag variables to control while loops\n",
    "* Perform modulo division\n",
    "* Use Break and Continue statements to alter the flow of a while loop\n",
    "* Use empty or populated lists or dictionaries as Boolean values\n",
    "* Use the bool() function to convert values to their boolean equivalent\n",
    "* Nest while loops for more complex control flow\n",
    "* Use the time library to time processes in our program\n",
    "\n",
    "### Data Types\n",
    "\n",
    "* Strings: A series of characters \n",
    "* Integers: Whole Numbers\n",
    "* Floats: Decimal Numbers\n",
    "* Lists: A mutable collection\n",
    "* Tuples: An immutable collection\n",
    "* Ranges: A sequence of integers\n",
    "* Dictionaries: A collection of associated key-value pairs\n",
    "\n",
    "### Control Flow\n",
    "\n",
    "* For Loops\n",
    "* If Statements\n",
    "* If/Else Statements\n",
    "* If/Elif/Else Stataments\n",
    "* Break\n",
    "* Pass\n",
    "* Continue\n",
    "\n",
    "<b>For today</b>\n",
    "* While Loops\n",
    "\n",
    "### Operators\n",
    "<b> Assignment Operators </b>\n",
    "* = Assignment\n",
    "* += Compound Assignment\n",
    "* -= Compound Assignment\n",
    "* + Concatenation (strings)\n",
    "\n",
    "<b>Algebraic Operators</b>\n",
    "* +&nbsp;Addition (ints and floats)\n",
    "* -&nbsp;Subtraction\n",
    "* *&nbsp;Multiplication\n",
    "* /&nbsp;Division\n",
    "* **&nbsp;Exponentiation \n",
    "\n",
    "<b>For today</b>\n",
    "* %&nbsp;Modulo Division\n",
    "\n",
    " ### Built In Functions\n",
    "\n",
    "* print()\n",
    "* type()\n",
    "* str()\n",
    "* int()\n",
    "* float()\n",
    "* input()\n",
    "* round()\n",
    "* sorted\n",
    "* len()\n",
    "* range()\n",
    "* list()\n",
    "* min()\n",
    "* max()\n",
    "* sum()\n",
    "* zip()\n",
    "* bin()\n",
    "* hex()\n",
    "* set()\n",
    "\n",
    "<b>For today</b>\n",
    "* bool()\n",
    "\n",
    "### Methods\n",
    "\n",
    "<b> Strings: </b>\n",
    "* .upper()\n",
    "* .lower()\n",
    "* .title()\n",
    "* .strip()\n",
    "* .count()\n",
    "* .join()\n",
    "* .replace()<br>\n",
    "<b>For today</b>\n",
    "* .split()\n",
    "\n",
    "<b> Lists: </b>\n",
    "* .append()\n",
    "* .insert()\n",
    "* .pop()\n",
    "* .remove()\n",
    "* .sort()\n",
    "* .reverse() \n",
    "* .copy() \n",
    "* .index()\n",
    "\n",
    "<b>Dictionaries:</b> \n",
    "* .items()\n",
    "* .keys()\n",
    "* .values()\n",
    "* .most_common()\n",
    "\n",
    "<b> External Libraries </b>\n",
    "* math\n",
    "* datetime\n",
    "* cmath\n",
    "* random\n",
    "* collections\n",
    "\n",
    "<b>For today</b>\n",
    "* time\n",
    "\n",
    "\n",
    "### Codelabs\n",
    "1.\n",
    "2.\n",
    "3.\n"
   ]
  },
  {
   "cell_type": "markdown",
   "metadata": {},
   "source": [
    "<b>For Loops </b>- running a set number of times\n",
    "<br><b>While Loops </b>- running until a certain condition is met\n",
    "\n"
   ]
  },
  {
   "cell_type": "code",
   "execution_count": null,
   "metadata": {},
   "outputs": [],
   "source": [
    "for i in range(11):\n",
    "    print(i)\n",
    "    "
   ]
  },
  {
   "cell_type": "code",
   "execution_count": null,
   "metadata": {},
   "outputs": [],
   "source": [
    "currentNum = 1\n",
    "while currentNum <= 10:\n",
    "    print(currentNum)\n",
    "    currentNum += 1\n"
   ]
  },
  {
   "cell_type": "code",
   "execution_count": 2,
   "metadata": {},
   "outputs": [
    {
     "name": "stdout",
     "output_type": "stream",
     "text": [
      "1\n",
      "Press any key to print the next number or q to quit: 1\n",
      "2\n",
      "Press any key to print the next number or q to quit: q\n"
     ]
    }
   ],
   "source": [
    "currentNum = 1\n",
    "while True:\n",
    "    print(currentNum)\n",
    "    currentNum += 1\n",
    "    choice = input(\"Press any key to print the next number or q to quit: \").lower()\n",
    "    if choice == 'q':\n",
    "        break"
   ]
  },
  {
   "cell_type": "markdown",
   "metadata": {},
   "source": [
    "<b>Module Division (%)</b>- the modulo operation returns the remainder or signed remainder of a division, after one number is divided by another (called the modulus of the operation).\n",
    "\n",
    "4/2 = 2\n",
    "4%2 = 0\n",
    "\n",
    "8/5 = 1.6xxxxx\n",
    "8%5 = 3"
   ]
  },
  {
   "cell_type": "code",
   "execution_count": null,
   "metadata": {},
   "outputs": [],
   "source": [
    "print(4/2)\n",
    "print(4%2)"
   ]
  },
  {
   "cell_type": "code",
   "execution_count": null,
   "metadata": {},
   "outputs": [],
   "source": [
    "print(8/5)\n",
    "print(8%5)"
   ]
  },
  {
   "cell_type": "code",
   "execution_count": null,
   "metadata": {},
   "outputs": [],
   "source": [
    "print(10%4)"
   ]
  },
  {
   "cell_type": "code",
   "execution_count": null,
   "metadata": {},
   "outputs": [],
   "source": [
    "currentNum = 1\n",
    "while currentNum <= 10:\n",
    "    if currentNum % 2 == 0:\n",
    "        print(str(currentNum) + \" is even!\")\n",
    "    else:\n",
    "        print(str(currentNum) + \" is odd!\")\n",
    "    currentNum += 1"
   ]
  },
  {
   "cell_type": "markdown",
   "metadata": {},
   "source": [
    "### Break Statement:"
   ]
  },
  {
   "cell_type": "code",
   "execution_count": 3,
   "metadata": {},
   "outputs": [
    {
     "name": "stdout",
     "output_type": "stream",
     "text": [
      "1 is NOT divisible by 3!\n",
      "Enter 'n' to stop or press enter to continue: \n",
      "2 is NOT divisible by 3!\n",
      "Enter 'n' to stop or press enter to continue: \n",
      "3 is divisible by 3!\n",
      "Enter 'n' to stop or press enter to continue: \n",
      "4 is NOT divisible by 3!\n",
      "Enter 'n' to stop or press enter to continue: \n",
      "5 is NOT divisible by 3!\n",
      "Enter 'n' to stop or press enter to continue: n\n",
      "6\n",
      "Quitting...\n"
     ]
    }
   ],
   "source": [
    "currentNum = 1\n",
    "playing = True\n",
    "while playing:\n",
    "    if currentNum % 3 == 0:\n",
    "        print(str(currentNum) + \" is divisible by 3!\")\n",
    "    else:\n",
    "        print(str(currentNum) + \" is NOT divisible by 3!\")\n",
    "    \n",
    "    choice = input(\"Enter 'n' to stop or press enter to continue: \")\n",
    "    if choice.lower() == 'n':\n",
    "        playing = False\n",
    "    \n",
    "    currentNum += 1\n",
    "\n",
    "print(currentNum)\n",
    "print(\"Quitting...\")"
   ]
  },
  {
   "cell_type": "code",
   "execution_count": 4,
   "metadata": {},
   "outputs": [
    {
     "name": "stdout",
     "output_type": "stream",
     "text": [
      "1 is NOT divisible by 3!\n",
      "Enter 'n' to stop or press enter to continue: \n",
      "2 is NOT divisible by 3!\n",
      "Enter 'n' to stop or press enter to continue: \n",
      "3 is divisible by 3!\n",
      "Enter 'n' to stop or press enter to continue: \n",
      "4 is NOT divisible by 3!\n",
      "Enter 'n' to stop or press enter to continue: \n",
      "5 is NOT divisible by 3!\n",
      "Enter 'n' to stop or press enter to continue: n\n",
      "5\n",
      "Quitting...\n"
     ]
    }
   ],
   "source": [
    "currentNum = 1\n",
    "playing = True\n",
    "while playing:\n",
    "    if currentNum % 3 == 0:\n",
    "        print(str(currentNum) + \" is divisible by 3!\")\n",
    "    else:\n",
    "        print(str(currentNum) + \" is NOT divisible by 3!\")\n",
    "    \n",
    "    choice = input(\"Enter 'n' to stop or press enter to continue: \")\n",
    "    if choice.lower() == 'n':\n",
    "        break\n",
    "    \n",
    "    currentNum += 1\n",
    "\n",
    "print(currentNum)\n",
    "print(\"Quitting...\")"
   ]
  },
  {
   "cell_type": "markdown",
   "metadata": {},
   "source": [
    "### Continue Statement"
   ]
  },
  {
   "cell_type": "code",
   "execution_count": 6,
   "metadata": {},
   "outputs": [
    {
     "name": "stdout",
     "output_type": "stream",
     "text": [
      "current variable value: 9\n",
      "current variable value: 7\n",
      "current variable value: 6\n",
      "current variable value: 5\n",
      "current variable value: 3\n",
      "current variable value: 2\n",
      "current variable value: 1\n",
      "all done!\n"
     ]
    }
   ],
   "source": [
    "num = 10\n",
    "while num > 0:\n",
    "    num -= 1\n",
    "    if num % 4 == 0:\n",
    "        continue\n",
    "    print('current variable value: ' + str(num))\n",
    "\n",
    "print('all done!')"
   ]
  },
  {
   "cell_type": "markdown",
   "metadata": {},
   "source": [
    "### More with While Loops"
   ]
  },
  {
   "cell_type": "code",
   "execution_count": 7,
   "metadata": {},
   "outputs": [
    {
     "name": "stdout",
     "output_type": "stream",
     "text": [
      "[]\n",
      "False\n",
      "['ryan']\n",
      "True\n"
     ]
    }
   ],
   "source": [
    "names = []\n",
    "print(names)\n",
    "print(bool(names))\n",
    "\n",
    "names.append('ryan')\n",
    "print(names)\n",
    "print(bool(names))"
   ]
  },
  {
   "cell_type": "code",
   "execution_count": 8,
   "metadata": {},
   "outputs": [
    {
     "name": "stdout",
     "output_type": "stream",
     "text": [
      "0\n",
      "False\n"
     ]
    }
   ],
   "source": [
    "print(0)\n",
    "print(bool(0))"
   ]
  },
  {
   "cell_type": "code",
   "execution_count": 9,
   "metadata": {},
   "outputs": [
    {
     "name": "stdout",
     "output_type": "stream",
     "text": [
      "1\n",
      "True\n"
     ]
    }
   ],
   "source": [
    "print(1)\n",
    "print(bool(1))"
   ]
  },
  {
   "cell_type": "code",
   "execution_count": 10,
   "metadata": {},
   "outputs": [
    {
     "name": "stdout",
     "output_type": "stream",
     "text": [
      "True\n"
     ]
    }
   ],
   "source": [
    "print(bool(44))"
   ]
  },
  {
   "cell_type": "code",
   "execution_count": 11,
   "metadata": {},
   "outputs": [
    {
     "name": "stdout",
     "output_type": "stream",
     "text": [
      "[1, 2, 3, 4, 5, 6, 7, 8, 9, 10]\n"
     ]
    }
   ],
   "source": [
    "numbers = list(range(1, 11))\n",
    "print(numbers)"
   ]
  },
  {
   "cell_type": "code",
   "execution_count": 12,
   "metadata": {},
   "outputs": [
    {
     "name": "stdout",
     "output_type": "stream",
     "text": [
      "[1, 2, 3, 4, 5, 6, 7, 8, 9]\n",
      "[1, 2, 3, 4, 5, 6, 7, 8]\n",
      "[1, 2, 3, 4, 5, 6, 7]\n",
      "[1, 2, 3, 4, 5, 6]\n",
      "[1, 2, 3, 4, 5]\n",
      "[1, 2, 3, 4]\n",
      "[1, 2, 3]\n",
      "[1, 2]\n",
      "[1]\n",
      "[]\n",
      "All elements removed\n"
     ]
    }
   ],
   "source": [
    "while numbers:\n",
    "    numbers.pop()\n",
    "    print(numbers)\n",
    "print(\"All elements removed\")"
   ]
  },
  {
   "cell_type": "code",
   "execution_count": 13,
   "metadata": {},
   "outputs": [
    {
     "name": "stdout",
     "output_type": "stream",
     "text": [
      "[1, 2, 3, 4, 4, 4, 5, 6, 4, 7, 4, 8, 4]\n",
      "[1, 2, 3, 4, 4, 5, 6, 4, 7, 4, 8, 4]\n",
      "[1, 2, 3, 4, 5, 6, 4, 7, 4, 8, 4]\n",
      "[1, 2, 3, 5, 6, 4, 7, 4, 8, 4]\n",
      "[1, 2, 3, 5, 6, 7, 4, 8, 4]\n",
      "[1, 2, 3, 5, 6, 7, 8, 4]\n",
      "[1, 2, 3, 5, 6, 7, 8]\n",
      "All 4's removed...\n"
     ]
    }
   ],
   "source": [
    "# remove the number 4 in the list\n",
    "\n",
    "numbers = [4, 1, 2, 3, 4, 4, 4, 5, 6, 4, 7, 4, 8, 4]\n",
    "while 4 in numbers:\n",
    "    numbers.remove(4)\n",
    "    print(numbers)\n",
    "print(\"All 4's removed...\")\n"
   ]
  },
  {
   "cell_type": "markdown",
   "metadata": {},
   "source": [
    "### Nested While Loops"
   ]
  },
  {
   "cell_type": "code",
   "execution_count": 14,
   "metadata": {},
   "outputs": [
    {
     "name": "stdout",
     "output_type": "stream",
     "text": [
      "While loop #1 is running...\n",
      "While loop #2 is running...\n",
      "Continue running while loop #2 (y/n): y\n",
      "While loop #2 is running...\n",
      "Continue running while loop #2 (y/n): y\n",
      "While loop #2 is running...\n",
      "Continue running while loop #2 (y/n): n\n",
      "Ending while loop #2...\n",
      "Continue running while loop #1 (y/n): y\n",
      "While loop #1 is running...\n",
      "Continue running while loop #1 (y/n): y\n",
      "While loop #1 is running...\n",
      "Continue running while loop #1 (y/n): n\n",
      "Ending while loop #1...\n"
     ]
    }
   ],
   "source": [
    "flag1 = True\n",
    "flag2 = True\n",
    "\n",
    "while flag1:\n",
    "    print(\"While loop #1 is running...\")\n",
    "    while flag2:\n",
    "        print(\"While loop #2 is running...\")\n",
    "        choice = input(\"Continue running while loop #2 (y/n): \")\n",
    "        if choice.lower() != 'y':\n",
    "            flag2 = False\n",
    "            print(\"Ending while loop #2...\")\n",
    "    choice = input(\"Continue running while loop #1 (y/n): \")\n",
    "    if choice.lower() != 'y':\n",
    "        flag1 = False\n",
    "        print(\"Ending while loop #1...\")\n",
    "    "
   ]
  },
  {
   "cell_type": "code",
   "execution_count": null,
   "metadata": {},
   "outputs": [],
   "source": []
  }
 ],
 "metadata": {
  "kernelspec": {
   "display_name": "Python 3",
   "language": "python",
   "name": "python3"
  },
  "language_info": {
   "codemirror_mode": {
    "name": "ipython",
    "version": 3
   },
   "file_extension": ".py",
   "mimetype": "text/x-python",
   "name": "python",
   "nbconvert_exporter": "python",
   "pygments_lexer": "ipython3",
   "version": "3.8.3"
  }
 },
 "nbformat": 4,
 "nbformat_minor": 4
}
