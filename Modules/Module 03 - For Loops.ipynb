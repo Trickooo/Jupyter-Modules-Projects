{
 "cells": [
  {
   "cell_type": "markdown",
   "metadata": {},
   "source": [
    "## Control Flow - For Loops\n",
    "\n",
    "### Objectives\n",
    "\n",
    "In this module, we are going to introduce our first construct to allow us to control the flow of our programsl the for loop. We will learn how to:\n",
    "\n",
    "* Loop through an entire list of elements\n",
    "* Use the range() function to generate a sequence of numbers\n",
    "* Loop through a numerical range\n",
    "* Use the list function to turn a range into a list\n",
    "* use the .join method to turn a list back into a string\n",
    "* Nest for loops for more complex program structure\n",
    "* Use list comprehension for more compact coding practices\n",
    "* Slice a list to only loop through a portion of a list\n",
    "* Copy a list versus creating a new variable that points to the same list\n",
    "* Use the zip() function to loop through multiple lists at the same time\n",
    "* Import the cmath library to work with complex numbers\n",
    "\n",
    "### Data Types\n",
    "\n",
    "<b> Done </b>\n",
    "* Strings: A series of characters \n",
    "* Integers: Whole Numbers\n",
    "* Floats: Decimal Numbers\n",
    "* Lists: A mutable collection\n",
    "* Tuples: An immutable collection\n",
    "\n",
    "<b> For Today </b>\n",
    "* Ranges: A sequence of integers\n",
    "\n",
    "### Control Flow\n",
    "\n",
    "* For Loops\n",
    "\n",
    "\n",
    "### Built In Functions\n",
    "\n",
    "* print()\n",
    "* type()\n",
    "* str()\n",
    "* int()\n",
    "* float()\n",
    "* input()\n",
    "* round()\n",
    "* sorted\n",
    "* len()\n",
    "\n",
    "<b> New Functions for today </b>\n",
    "\n",
    "* range()\n",
    "* list()\n",
    "* min()\n",
    "* max()\n",
    "* sum()\n",
    "* zip()\n",
    "* bin()\n",
    "* hex()\n",
    "\n",
    "### Methods\n",
    "\n",
    "<b> Strings: </b>\n",
    "* .upper()\n",
    "* .lower()\n",
    "* .title()\n",
    "* .strip()\n",
    "* .count() <b> \n",
    "* .join()</b>\n",
    "\n",
    "<b> Lists: </b>\n",
    "* .append()\n",
    "* .insert()\n",
    "* .pop()\n",
    "* .remove()\n",
    "* .sort()\n",
    "* .reverse() <b>\n",
    "* .copy() </b>\n",
    "\n",
    "<b> External Libraries </b>\n",
    "* math\n",
    "* datetime <b>\n",
    "* cmath </b>\n",
    "\n",
    "### Code Labs\n",
    "* Quadratic Equation Solver App\n",
    "* Factorial Calculator App\n",
    "* Fibonacci Calculator App\n",
    "\n",
    "\n",
    "### Looping Through a List of Elements with a For Loop\n",
    "\n",
    "A looop allows us to complete a section of code using an element at index 0 of the list then it loops back to the beginning of that section of code and uses index 1 with the code. Then it loops back to the beginning of that section of code and uses index 2 and so on. \n",
    "\n",
    "Let's see how it works:"
   ]
  },
  {
   "cell_type": "code",
   "execution_count": 1,
   "metadata": {},
   "outputs": [
    {
     "name": "stdout",
     "output_type": "stream",
     "text": [
      "['giants', 'bills', 'jets', 'patriots']\n",
      "<class 'list'>\n"
     ]
    }
   ],
   "source": [
    "teams = [\"giants\", \"bills\", \"jets\", \"patriots\"]\n",
    "print(teams)\n",
    "print(type(teams))"
   ]
  },
  {
   "cell_type": "code",
   "execution_count": 2,
   "metadata": {},
   "outputs": [
    {
     "ename": "AttributeError",
     "evalue": "'list' object has no attribute 'title'",
     "output_type": "error",
     "traceback": [
      "\u001b[1;31m---------------------------------------------------------------------------\u001b[0m",
      "\u001b[1;31mAttributeError\u001b[0m                            Traceback (most recent call last)",
      "\u001b[1;32m<ipython-input-2-6877ee61a9d9>\u001b[0m in \u001b[0;36m<module>\u001b[1;34m\u001b[0m\n\u001b[1;32m----> 1\u001b[1;33m \u001b[0mprint\u001b[0m\u001b[1;33m(\u001b[0m\u001b[0mteams\u001b[0m\u001b[1;33m.\u001b[0m\u001b[0mtitle\u001b[0m\u001b[1;33m(\u001b[0m\u001b[1;33m)\u001b[0m\u001b[1;33m)\u001b[0m\u001b[1;33m\u001b[0m\u001b[1;33m\u001b[0m\u001b[0m\n\u001b[0m",
      "\u001b[1;31mAttributeError\u001b[0m: 'list' object has no attribute 'title'"
     ]
    }
   ],
   "source": [
    "print(teams.title())"
   ]
  },
  {
   "cell_type": "markdown",
   "metadata": {},
   "source": [
    "to fix this I can use lists indexing to print individual elements of the list and so we learn how to do this in our last topic"
   ]
  },
  {
   "cell_type": "code",
   "execution_count": 3,
   "metadata": {},
   "outputs": [
    {
     "name": "stdout",
     "output_type": "stream",
     "text": [
      "Giants\n"
     ]
    }
   ],
   "source": [
    "print(teams[0].title())"
   ]
  },
  {
   "cell_type": "code",
   "execution_count": 4,
   "metadata": {},
   "outputs": [
    {
     "name": "stdout",
     "output_type": "stream",
     "text": [
      "Giants\n",
      "Bills\n",
      "Jets\n",
      "Patriots\n"
     ]
    }
   ],
   "source": [
    "print(teams[0].title())\n",
    "print(teams[1].title())\n",
    "print(teams[2].title())\n",
    "print(teams[3].title())"
   ]
  },
  {
   "cell_type": "markdown",
   "metadata": {},
   "source": [
    "Use For loops to make it more efficient:"
   ]
  },
  {
   "cell_type": "code",
   "execution_count": 5,
   "metadata": {},
   "outputs": [
    {
     "name": "stdout",
     "output_type": "stream",
     "text": [
      "Giants\n",
      "Bills\n",
      "Jets\n",
      "Patriots\n"
     ]
    }
   ],
   "source": [
    "for i in teams:\n",
    "    print(i.title())"
   ]
  },
  {
   "cell_type": "markdown",
   "metadata": {},
   "source": [
    "We start by declaring the for loop. Then we use a temporary variable that will iterate over and so on I chose I this variable represent elements in the list we provide in our case teams. We then have to include a call in to say hey Python whatever comes next is inside the loop.\n",
    "\n",
    "Now indentation is important in Python. Every line of a loop must be indented. So you see our whitespace here to indicate that it is part of the loop. The first time this loop runs i represents giants. So when this runs it says print giant stock title the next time i the next time is for loop runs i represents bills. And so this says print Bill's title the next time i represent jets and the last time I represents patriots. Once we run out of elements in the list to loop over the loop stops.\n",
    "\n",
    "Then replace i with team so that it is more human readable"
   ]
  },
  {
   "cell_type": "code",
   "execution_count": 6,
   "metadata": {},
   "outputs": [
    {
     "name": "stdout",
     "output_type": "stream",
     "text": [
      "Patriots\n",
      "Patriots\n",
      "Patriots\n",
      "Patriots\n"
     ]
    }
   ],
   "source": [
    "for team in teams:\n",
    "    print(i.title())"
   ]
  },
  {
   "cell_type": "code",
   "execution_count": 7,
   "metadata": {},
   "outputs": [
    {
     "name": "stdout",
     "output_type": "stream",
     "text": [
      "Giants\n",
      "You're going to win the Super Bowl! \n",
      "\n",
      "Bills\n",
      "You're going to win the Super Bowl! \n",
      "\n",
      "Jets\n",
      "You're going to win the Super Bowl! \n",
      "\n",
      "Patriots\n",
      "You're going to win the Super Bowl! \n",
      "\n",
      "Go Football!!!\n"
     ]
    }
   ],
   "source": [
    "for i in teams:\n",
    "    print(i.title())\n",
    "    print(\"You're going to win the Super Bowl! \\n\")\n",
    "print(\"Go Football!!!\")"
   ]
  },
  {
   "cell_type": "markdown",
   "metadata": {},
   "source": [
    "We can loop through lists of any data types. So for instance I can make a list values and I'll make a list of integers 1 2 3 4 5 and let's create a variable and call it total total sum."
   ]
  },
  {
   "cell_type": "code",
   "execution_count": 9,
   "metadata": {},
   "outputs": [
    {
     "name": "stdout",
     "output_type": "stream",
     "text": [
      "15\n"
     ]
    }
   ],
   "source": [
    "values = [1,2,3,4,5]\n",
    "totalSum = 0\n",
    "for value in values:\n",
    "    totalSum += value\n",
    "print(totalSum)"
   ]
  },
  {
   "cell_type": "markdown",
   "metadata": {},
   "source": [
    "<b> Looping thru a list of list </b>"
   ]
  },
  {
   "cell_type": "code",
   "execution_count": 10,
   "metadata": {},
   "outputs": [
    {
     "name": "stdout",
     "output_type": "stream",
     "text": [
      "a\n",
      "b\n",
      "c\n",
      "1\n",
      "2\n",
      "3\n",
      "do\n",
      "re\n",
      "mi\n"
     ]
    }
   ],
   "source": [
    "triples = [[\"a\", \"b\", \"c\"], [\"1\", \"2\", \"3\"], [\"do\", \"re\", \"mi\"]]\n",
    "\n",
    "for listValue in triples:\n",
    "    for element in listValue:\n",
    "        print(element)"
   ]
  },
  {
   "cell_type": "code",
   "execution_count": 11,
   "metadata": {},
   "outputs": [
    {
     "name": "stdout",
     "output_type": "stream",
     "text": [
      "a b c 1 2 3 do re mi "
     ]
    }
   ],
   "source": [
    "triples = [[\"a\", \"b\", \"c\"], [\"1\", \"2\", \"3\"], [\"do\", \"re\", \"mi\"]]\n",
    "\n",
    "for listValue in triples:\n",
    "    for element in listValue:\n",
    "        print(element, end = ' ')"
   ]
  },
  {
   "cell_type": "code",
   "execution_count": 12,
   "metadata": {},
   "outputs": [
    {
     "name": "stdout",
     "output_type": "stream",
     "text": [
      "a b c I just finished one of the inner loops!\n",
      "1 2 3 I just finished one of the inner loops!\n",
      "do re mi I just finished one of the inner loops!\n"
     ]
    }
   ],
   "source": [
    "triples = [[\"a\", \"b\", \"c\"], [\"1\", \"2\", \"3\"], [\"do\", \"re\", \"mi\"]]\n",
    "\n",
    "for listValue in triples:\n",
    "    for element in listValue:\n",
    "        print(element, end = ' ')\n",
    "    print(\"I just finished one of the inner loops!\")"
   ]
  },
  {
   "cell_type": "code",
   "execution_count": 13,
   "metadata": {},
   "outputs": [
    {
     "name": "stdout",
     "output_type": "stream",
     "text": [
      "a b c I just finished one of the inner loops!\n",
      "1 2 3 I just finished one of the inner loops!\n",
      "do re mi I just finished one of the inner loops!\n",
      "Now im outside both for loops\n"
     ]
    }
   ],
   "source": [
    "triples = [[\"a\", \"b\", \"c\"], [\"1\", \"2\", \"3\"], [\"do\", \"re\", \"mi\"]]\n",
    "\n",
    "for listValue in triples:\n",
    "    for element in listValue:\n",
    "        print(element, end = ' ')\n",
    "    print(\"I just finished one of the inner loops!\")\n",
    "print(\"Now im outside both for loops\")"
   ]
  },
  {
   "cell_type": "markdown",
   "metadata": {},
   "source": [
    "### Looping througn a Numerical Range\n",
    "\n",
    "Looping is a great way to perform the same chunk of code a set number of times. If you know the set number of times you wish to perform your code. You can use the range function in conjunction with a for loop.\n",
    "\n",
    "The range function takes two parameters a starting value add a value that you will go up to but not include. It will also take an optional parameter of your step size. The default value here is a step size of 1."
   ]
  },
  {
   "cell_type": "code",
   "execution_count": 14,
   "metadata": {},
   "outputs": [
    {
     "name": "stdout",
     "output_type": "stream",
     "text": [
      "range(1, 10)\n",
      "<class 'range'>\n"
     ]
    }
   ],
   "source": [
    "values = range(1,10)\n",
    "print(values)\n",
    "print(type(values))"
   ]
  },
  {
   "cell_type": "code",
   "execution_count": 15,
   "metadata": {},
   "outputs": [
    {
     "name": "stdout",
     "output_type": "stream",
     "text": [
      "1\n",
      "2\n",
      "3\n",
      "4\n",
      "5\n",
      "6\n",
      "7\n",
      "8\n",
      "9\n"
     ]
    }
   ],
   "source": [
    "for i in range(1,10):\n",
    "    print(i)"
   ]
  },
  {
   "cell_type": "markdown",
   "metadata": {},
   "source": [
    "Here though we're not looping through a predefined list we're looping through a numerical range. And so when I run this I print the numbers 1 through 9 which is interesting because I said go from 1 to 10 so it's important to note here that we're printing the numbers 1 through 9 inclusive because the second argument here tells Python when to stop.\n",
    "\n",
    "Also note that if I leave the starting value out the default value is zero."
   ]
  },
  {
   "cell_type": "code",
   "execution_count": 16,
   "metadata": {},
   "outputs": [
    {
     "name": "stdout",
     "output_type": "stream",
     "text": [
      "0\n",
      "1\n",
      "2\n",
      "3\n",
      "4\n"
     ]
    }
   ],
   "source": [
    "for num in range (5):\n",
    "    print(num)"
   ]
  },
  {
   "cell_type": "markdown",
   "metadata": {},
   "source": [
    "Lastly let's introduce our third optional argument"
   ]
  },
  {
   "cell_type": "code",
   "execution_count": 17,
   "metadata": {},
   "outputs": [
    {
     "name": "stdout",
     "output_type": "stream",
     "text": [
      "2\n",
      "3\n",
      "4\n",
      "5\n",
      "6\n",
      "7\n",
      "8\n",
      "9\n",
      "10\n"
     ]
    }
   ],
   "source": [
    "for i in range(2,11,1):\n",
    "    print(i)"
   ]
  },
  {
   "cell_type": "markdown",
   "metadata": {},
   "source": [
    "The range function also shines when we use it in conjunction with another function, the list function. \n",
    "\n",
    "The list function will directly convert whatever argument we pass it into a list if I pass it to string it will create a list of all of the characters in the list all."
   ]
  },
  {
   "cell_type": "code",
   "execution_count": 18,
   "metadata": {},
   "outputs": [
    {
     "name": "stdout",
     "output_type": "stream",
     "text": [
      "Hello World\n",
      "['H', 'e', 'l', 'l', 'o', ' ', 'W', 'o', 'r', 'l', 'd']\n"
     ]
    }
   ],
   "source": [
    "word = \"Hello World\"\n",
    "listWord = list(word)\n",
    "print(word)\n",
    "print(listWord)"
   ]
  },
  {
   "cell_type": "code",
   "execution_count": 19,
   "metadata": {},
   "outputs": [
    {
     "name": "stdout",
     "output_type": "stream",
     "text": [
      "['H', 'e', 'l', 'l', 'o', 'NEW', 'W', 'o', 'r', 'l', 'd']\n"
     ]
    }
   ],
   "source": [
    "listWord[5] = \"NEW\"\n",
    "print(listWord)"
   ]
  },
  {
   "cell_type": "markdown",
   "metadata": {},
   "source": [
    "Now if I want to turn my list back into a string I can use a new string method, the .join method. The .join method is called on a string and takes an argument of an iterable, something that you can loop through and joins all of the characters together returning a string."
   ]
  },
  {
   "cell_type": "code",
   "execution_count": 21,
   "metadata": {},
   "outputs": [
    {
     "name": "stdout",
     "output_type": "stream",
     "text": [
      "HhiehilhilhiohiNEWhiWhiohirhilhid\n"
     ]
    }
   ],
   "source": [
    "newWord = \"hi\".join(listWord)\n",
    "print(newWord)"
   ]
  },
  {
   "cell_type": "markdown",
   "metadata": {},
   "source": [
    "Now we can use our list function that we just discussed in conjunction with our range function to turn our range objects into a list of numbers. So imagine here I want to create a variable call it numbers. So I'm going to make a range of the numbers ten to one hundred and one and I want to go by tens."
   ]
  },
  {
   "cell_type": "code",
   "execution_count": 23,
   "metadata": {},
   "outputs": [
    {
     "name": "stdout",
     "output_type": "stream",
     "text": [
      "[10, 20, 30, 40, 50, 60, 70, 80, 90, 100]\n"
     ]
    }
   ],
   "source": [
    "numbers = list(range(10,101,10))\n",
    "print(numbers)"
   ]
  },
  {
   "cell_type": "code",
   "execution_count": 24,
   "metadata": {},
   "outputs": [
    {
     "name": "stdout",
     "output_type": "stream",
     "text": [
      "10\n",
      "20\n",
      "30\n",
      "40\n",
      "50\n",
      "60\n",
      "70\n",
      "80\n",
      "90\n",
      "100\n"
     ]
    }
   ],
   "source": [
    "for number in numbers:\n",
    "    print(number)"
   ]
  },
  {
   "cell_type": "markdown",
   "metadata": {},
   "source": [
    "Let's look at another way that we can use our list numbers."
   ]
  },
  {
   "cell_type": "code",
   "execution_count": 26,
   "metadata": {},
   "outputs": [
    {
     "name": "stdout",
     "output_type": "stream",
     "text": [
      "Populating squares complete!\n",
      "100\n",
      "400\n",
      "900\n",
      "1600\n",
      "2500\n",
      "3600\n",
      "4900\n",
      "6400\n",
      "8100\n",
      "10000\n"
     ]
    }
   ],
   "source": [
    "squares = []\n",
    "for num in numbers:\n",
    "    square = num**2\n",
    "    squares.append(square)\n",
    "\n",
    "print(\"Populating squares complete!\")\n",
    "for square in squares:\n",
    "    print(square)\n",
    "    "
   ]
  },
  {
   "cell_type": "code",
   "execution_count": 27,
   "metadata": {},
   "outputs": [
    {
     "name": "stdout",
     "output_type": "stream",
     "text": [
      "1000\n",
      "8000\n",
      "27000\n",
      "64000\n",
      "125000\n",
      "216000\n",
      "343000\n",
      "512000\n",
      "729000\n",
      "1000000\n"
     ]
    }
   ],
   "source": [
    "cubes = [num**3 for num in numbers]\n",
    "for cube in cubes:\n",
    "    print(cube)"
   ]
  },
  {
   "cell_type": "code",
   "execution_count": 28,
   "metadata": {},
   "outputs": [
    {
     "name": "stdout",
     "output_type": "stream",
     "text": [
      "1000\n",
      "1000000\n",
      "3025000\n"
     ]
    }
   ],
   "source": [
    "print(min(cubes))\n",
    "print(max(cubes))\n",
    "print(sum(cubes))"
   ]
  },
  {
   "cell_type": "markdown",
   "metadata": {},
   "source": [
    "### Looping through a portion of a list usng slicing"
   ]
  },
  {
   "cell_type": "markdown",
   "metadata": {},
   "source": [
    "So far anytime we have looped through a list we have been forced to essentially loop through the entire list. Now if we only want to loop through part of the list or maybe a specific portion of the list we can use a new idea, list slicing. A slice is a part of a list. Slicing requires you to give the index of the first and last element of your slice or the part of the list that you want to loop through. Just like the range function a slice goes up to but does not include the ending element.\n",
    "\n",
    "The notation for slicing is to use the list name followed by square brackets with the first and ending index separated by a colon.\n",
    "\n",
    "\n"
   ]
  },
  {
   "cell_type": "code",
   "execution_count": 30,
   "metadata": {},
   "outputs": [
    {
     "name": "stdout",
     "output_type": "stream",
     "text": [
      "1\n",
      "2\n",
      "3\n",
      "4\n",
      "5\n",
      "6\n",
      "7\n",
      "8\n",
      "9\n",
      "10\n"
     ]
    }
   ],
   "source": [
    "numbers = list(range(1,11))\n",
    "for num in numbers:\n",
    "    print(num)"
   ]
  },
  {
   "cell_type": "code",
   "execution_count": 31,
   "metadata": {},
   "outputs": [
    {
     "name": "stdout",
     "output_type": "stream",
     "text": [
      "1\n",
      "2\n",
      "3\n",
      "4\n",
      "5\n"
     ]
    }
   ],
   "source": [
    "numbers = list(range(1,11))\n",
    "for num in numbers[0:5]:\n",
    "    print(num)"
   ]
  },
  {
   "cell_type": "markdown",
   "metadata": {},
   "source": [
    "Now if we leave the first index blank the default value the default behavior here is to start at an index of 0. So by getting rid of zero this should work exactly the same and it does just that."
   ]
  },
  {
   "cell_type": "code",
   "execution_count": 32,
   "metadata": {},
   "outputs": [
    {
     "name": "stdout",
     "output_type": "stream",
     "text": [
      "1\n",
      "2\n",
      "3\n",
      "4\n",
      "5\n"
     ]
    }
   ],
   "source": [
    "numbers = list(range(1,11))\n",
    "for num in numbers[:5]:\n",
    "    print(num)"
   ]
  },
  {
   "cell_type": "markdown",
   "metadata": {},
   "source": [
    "Similarly if we leave the ending index blank so let's say I instead of let's put the colon here let's"
   ]
  },
  {
   "cell_type": "code",
   "execution_count": 33,
   "metadata": {},
   "outputs": [
    {
     "name": "stdout",
     "output_type": "stream",
     "text": [
      "6\n",
      "7\n",
      "8\n",
      "9\n",
      "10\n"
     ]
    }
   ],
   "source": [
    "numbers = list(range(1,11))\n",
    "for num in numbers[5:]:\n",
    "    print(num)"
   ]
  },
  {
   "cell_type": "markdown",
   "metadata": {},
   "source": [
    " Lastly we can use slicing to make an actual copy of our list. Often times you know students will learn or we'll try to copy a list like this.\n"
   ]
  },
  {
   "cell_type": "code",
   "execution_count": 35,
   "metadata": {},
   "outputs": [
    {
     "name": "stdout",
     "output_type": "stream",
     "text": [
      "[1, 2, 3, 4, 5, 6, 7, 8, 9, 10]\n",
      "[1, 2, 3, 4, 5, 6, 7, 8, 9, 10]\n"
     ]
    }
   ],
   "source": [
    "newNumbers = numbers\n",
    "print(newNumbers)\n",
    "print(numbers)"
   ]
  },
  {
   "cell_type": "markdown",
   "metadata": {},
   "source": [
    "This isnt a copy at all.We're actually referencing the same list. And the reason why if I change my old list."
   ]
  },
  {
   "cell_type": "code",
   "execution_count": 36,
   "metadata": {},
   "outputs": [
    {
     "name": "stdout",
     "output_type": "stream",
     "text": [
      "[1, 2, 3, 4, 5, 6, 7, 8, 9]\n"
     ]
    }
   ],
   "source": [
    "numbers.pop()\n",
    "print(numbers)"
   ]
  },
  {
   "cell_type": "code",
   "execution_count": 37,
   "metadata": {},
   "outputs": [
    {
     "name": "stdout",
     "output_type": "stream",
     "text": [
      "[1, 2, 3, 4, 5, 6, 7, 8, 9]\n"
     ]
    }
   ],
   "source": [
    "print(newNumbers)"
   ]
  },
  {
   "cell_type": "code",
   "execution_count": 38,
   "metadata": {},
   "outputs": [
    {
     "name": "stdout",
     "output_type": "stream",
     "text": [
      "[1, 2, 3, 4, 5]\n"
     ]
    }
   ],
   "source": [
    "numbers = list(range(1,6))\n",
    "print(numbers)\n"
   ]
  },
  {
   "cell_type": "code",
   "execution_count": 39,
   "metadata": {},
   "outputs": [
    {
     "name": "stdout",
     "output_type": "stream",
     "text": [
      "[1, 2, 3, 4, 5]\n",
      "[1, 2, 3, 4, 5]\n"
     ]
    }
   ],
   "source": [
    "newNumbers = numbers[:]\n",
    "print(numbers)\n",
    "print(newNumbers)"
   ]
  },
  {
   "cell_type": "code",
   "execution_count": 40,
   "metadata": {},
   "outputs": [
    {
     "name": "stdout",
     "output_type": "stream",
     "text": [
      "[1, 2, 3, 4]\n"
     ]
    }
   ],
   "source": [
    "numbers.pop()\n",
    "print(numbers)"
   ]
  },
  {
   "cell_type": "code",
   "execution_count": 41,
   "metadata": {},
   "outputs": [
    {
     "name": "stdout",
     "output_type": "stream",
     "text": [
      "[1, 2, 3, 4, 5]\n"
     ]
    }
   ],
   "source": [
    "print(newNumbers)"
   ]
  },
  {
   "cell_type": "code",
   "execution_count": 42,
   "metadata": {},
   "outputs": [
    {
     "name": "stdout",
     "output_type": "stream",
     "text": [
      "['john', 'bill', 'mary']\n",
      "['john', 'bill', 'mary']\n"
     ]
    }
   ],
   "source": [
    "names = [\"john\", \"bill\", \"mary\"]\n",
    "newNames = names.copy()\n",
    "print(names)\n",
    "print(newNames)"
   ]
  },
  {
   "cell_type": "code",
   "execution_count": 43,
   "metadata": {},
   "outputs": [
    {
     "name": "stdout",
     "output_type": "stream",
     "text": [
      "['john', 'bill', 'mary']\n",
      "['JOHN', 'bill', 'mary']\n"
     ]
    }
   ],
   "source": [
    "newNames[0] = newNames[0].upper()\n",
    "print(names)\n",
    "print(newNames)"
   ]
  },
  {
   "cell_type": "markdown",
   "metadata": {},
   "source": [
    "### Looping through multiple list\n",
    "\n",
    "We are also going to learn a new function - ZIP Function"
   ]
  },
  {
   "cell_type": "code",
   "execution_count": 9,
   "metadata": {},
   "outputs": [
    {
     "name": "stdout",
     "output_type": "stream",
     "text": [
      "jack\n",
      "john\n",
      "mark\n",
      "bill\n",
      "20\n",
      "44\n",
      "3\n",
      "14\n"
     ]
    }
   ],
   "source": [
    "names = [\"jack\", \"john\", \"mark\", \"bill\"]\n",
    "numbers = [20, 44, 3, 14]\n",
    "\n",
    "for name in names:\n",
    "    print(name)\n",
    "    \n",
    "for number in numbers:\n",
    "    print(number)\n",
    "    "
   ]
  },
  {
   "cell_type": "code",
   "execution_count": 10,
   "metadata": {},
   "outputs": [
    {
     "name": "stdout",
     "output_type": "stream",
     "text": [
      "jack14\n",
      "john14\n",
      "mark14\n",
      "bill14\n"
     ]
    }
   ],
   "source": [
    "for name in names:\n",
    "    print(name + str(number))"
   ]
  },
  {
   "cell_type": "code",
   "execution_count": 11,
   "metadata": {},
   "outputs": [
    {
     "name": "stdout",
     "output_type": "stream",
     "text": [
      "bill20\n",
      "bill44\n",
      "bill3\n",
      "bill14\n"
     ]
    }
   ],
   "source": [
    "for number in numbers:\n",
    "    print(name + str(number))"
   ]
  },
  {
   "cell_type": "code",
   "execution_count": 15,
   "metadata": {},
   "outputs": [
    {
     "name": "stdout",
     "output_type": "stream",
     "text": [
      "jack: 20\n",
      "john: 44\n",
      "mark: 3\n",
      "bill: 14\n"
     ]
    }
   ],
   "source": [
    "for i in range(len(names)):\n",
    "    print(names[i] + \": \" + str(numbers[i]))"
   ]
  },
  {
   "cell_type": "code",
   "execution_count": 16,
   "metadata": {},
   "outputs": [
    {
     "name": "stdout",
     "output_type": "stream",
     "text": [
      "Jack: 20\n",
      "John: 44\n",
      "Mark: 3\n",
      "Bill: 14\n"
     ]
    }
   ],
   "source": [
    "#put the title\n",
    "for i in range(len(names)):\n",
    "    print(names[i].title() + \": \" + str(numbers[i]))"
   ]
  },
  {
   "cell_type": "markdown",
   "metadata": {},
   "source": [
    "### Zip Function\n",
    "\n",
    "The zip function takes a couple of arguments if you look here \n",
    "\n",
    "DEMO:   \n",
    "\n",
    "zip(*iterables) --> \n",
    "\n",
    "it takes iterables and so iterables are just things that we can iterate over like for example a list. And so I can put multiple iteratables inside of the zip function.\n",
    "\n",
    "\n",
    "So let's see how we can use this with a for loop."
   ]
  },
  {
   "cell_type": "code",
   "execution_count": 17,
   "metadata": {},
   "outputs": [
    {
     "name": "stdout",
     "output_type": "stream",
     "text": [
      "Jack: 20\n",
      "John: 44\n",
      "Mark: 3\n",
      "Bill: 14\n"
     ]
    }
   ],
   "source": [
    "for name, number in zip(names, numbers):\n",
    "    print(name.title() + \": \" + str(number))"
   ]
  },
  {
   "cell_type": "markdown",
   "metadata": {},
   "source": [
    "So two nice methods here that we can use to loop through multiple lists at the same time whether we use our range function in conjunction with the length function to do list indexing or we can use the zip function to loop through multiple lists of elements."
   ]
  }
 ],
 "metadata": {
  "kernelspec": {
   "display_name": "Python 3 (ipykernel)",
   "language": "python",
   "name": "python3"
  },
  "language_info": {
   "codemirror_mode": {
    "name": "ipython",
    "version": 3
   },
   "file_extension": ".py",
   "mimetype": "text/x-python",
   "name": "python",
   "nbconvert_exporter": "python",
   "pygments_lexer": "ipython3",
   "version": "3.9.7"
  }
 },
 "nbformat": 4,
 "nbformat_minor": 4
}
