{
 "cells": [
  {
   "cell_type": "markdown",
   "metadata": {},
   "source": [
    "## Classes\n",
    "\n",
    "In this module we will begin working with classes. By defining our own classes, we can make our programs more efficient and applicable. Using classes we can model physical objects or tangible ideas. We can program information about an object's attributes or its behaviors. We will learn how to:\n",
    "\n",
    "* Define our own classes\n",
    "* Write our own methods for a class\n",
    "* Call our classes to make multiple objects\n",
    "* Update attributes of a class object\n",
    "* Create parent and child classes\n",
    "* Use inheritance to inherit attributes and methods from a parent class\n",
    "* Use the tkinter library to make a Graphical User Interface (GUI) application\n",
    "\n",
    "### Data Types\n",
    "\n",
    "* Strings: A series of characters \n",
    "* Integers: Whole Numbers\n",
    "* Floats: Decimal Numbers\n",
    "* Lists: A mutable collection\n",
    "* Tuples: An immutable collection\n",
    "* Ranges: A sequence of integers\n",
    "* Dictionaries: A collection of associated key-value pairs\n",
    "\n",
    "### Control Flow\n",
    "\n",
    "* For Loops\n",
    "* If Statements\n",
    "* If/Else Statements\n",
    "* If/Elif/Else Stataments\n",
    "* Break\n",
    "* Pass\n",
    "* Continue\n",
    "* While Loops\n",
    "* Def\n",
    "* Return\n",
    "\n",
    "### Operators\n",
    "<b> Assignment Operators </b>\n",
    "* = Assignment\n",
    "* += Compound Assignment\n",
    "* -= Compound Assignment\n",
    "* + Concatenation (strings)\n",
    "\n",
    "<b>Algebraic Operators</b>\n",
    "* +&nbsp;Addition (ints and floats)\n",
    "* -&nbsp;Subtraction\n",
    "* *&nbsp;Multiplication\n",
    "* /&nbsp;Division\n",
    "* **&nbsp;Exponentiation \n",
    "* %&nbsp;Modulo Division\n",
    "\n",
    " ### Built In Functions\n",
    "\n",
    "* print()\n",
    "* type()\n",
    "* str()\n",
    "* int()\n",
    "* float()\n",
    "* input()\n",
    "* round()\n",
    "* sorted\n",
    "* len()\n",
    "* range()\n",
    "* list()\n",
    "* min()\n",
    "* max()\n",
    "* sum()\n",
    "* zip()\n",
    "* bin()\n",
    "* hex()\n",
    "* set()\n",
    "* bool()\n",
    "<b>For today</b>\n",
    "* super()\n",
    "\n",
    "\n",
    "### Methods\n",
    "\n",
    "<b> Strings: </b>\n",
    "* .upper()\n",
    "* .lower()\n",
    "* .title()\n",
    "* .strip()\n",
    "* .count()\n",
    "* .join()\n",
    "* .replace()\n",
    "* .split()\n",
    "\n",
    "<b> Lists: </b>\n",
    "* .append()\n",
    "* .insert()\n",
    "* .pop()\n",
    "* .remove()\n",
    "* .sort()\n",
    "* .reverse() \n",
    "* .copy() \n",
    "* .index()\n",
    "\n",
    "<b>Dictionaries:</b> \n",
    "* .items()\n",
    "* .keys()\n",
    "* .values()\n",
    "* .most_common()\n",
    "\n",
    "<b> External Libraries </b>\n",
    "* math\n",
    "* datetime\n",
    "* cmath\n",
    "* random\n",
    "* collections\n",
    "* time\n",
    "* matplotlib\n",
    "\n",
    "<b>For today</b>\n",
    "* tkinter\n",
    "\n",
    "### Codelabs\n",
    "1.\n",
    "2. \n"
   ]
  },
  {
   "cell_type": "markdown",
   "metadata": {},
   "source": [
    "Classes basic definition:\n",
    "\n",
    "<br>Class = Blueprint to build something\n",
    "<br>Object = What you build\n",
    "<br>Instance = What you work with once it is built\n",
    "<br>Attribute = information used to distinguish one instance from another in a class\n",
    "<br>Method = behavior common to all instances of a class (functions)"
   ]
  },
  {
   "cell_type": "code",
   "execution_count": 1,
   "metadata": {},
   "outputs": [],
   "source": [
    "class Baby():\n",
    "    \"\"\"A simple class to simulate a baby\"\"\"\n",
    "    \n",
    "    def __init__(self, name, gender, age): #This are attributes\n",
    "        \"\"\"Initialize attributes\"\"\"\n",
    "        self.name = name.title()\n",
    "        self.gender = gender\n",
    "        self.age = age\n",
    "        \n",
    "        self.tired = True #default value, when we create a baby instance, it will always be set to tired\n",
    "    \n",
    "    def play(self):\n",
    "        pass \n",
    "    \n",
    "    def cry(self):\n",
    "        pass\n",
    "    \n",
    "    def sleep(self):\n",
    "        pass\n",
    "    \n",
    "      "
   ]
  },
  {
   "cell_type": "code",
   "execution_count": 2,
   "metadata": {},
   "outputs": [],
   "source": [
    "littleBoy = Baby('john', 'male' , 3)"
   ]
  },
  {
   "cell_type": "code",
   "execution_count": 3,
   "metadata": {},
   "outputs": [
    {
     "ename": "NameError",
     "evalue": "name 'self' is not defined",
     "output_type": "error",
     "traceback": [
      "\u001b[1;31m---------------------------------------------------------------------------\u001b[0m",
      "\u001b[1;31mNameError\u001b[0m                                 Traceback (most recent call last)",
      "\u001b[1;32m<ipython-input-3-bb215ee14d49>\u001b[0m in \u001b[0;36m<module>\u001b[1;34m\u001b[0m\n\u001b[1;32m----> 1\u001b[1;33m \u001b[0mlittleGirl\u001b[0m \u001b[1;33m=\u001b[0m \u001b[0mBaby\u001b[0m\u001b[1;33m(\u001b[0m\u001b[0mself\u001b[0m\u001b[1;33m,\u001b[0m \u001b[1;34m'mary'\u001b[0m\u001b[1;33m,\u001b[0m \u001b[1;34m'female'\u001b[0m\u001b[1;33m,\u001b[0m \u001b[1;36m1\u001b[0m\u001b[1;33m)\u001b[0m\u001b[1;33m\u001b[0m\u001b[1;33m\u001b[0m\u001b[0m\n\u001b[0m",
      "\u001b[1;31mNameError\u001b[0m: name 'self' is not defined"
     ]
    }
   ],
   "source": [
    "littleGirl = Baby(self, 'mary', 'female', 1)"
   ]
  },
  {
   "cell_type": "code",
   "execution_count": 4,
   "metadata": {},
   "outputs": [
    {
     "ename": "TypeError",
     "evalue": "__init__() takes 4 positional arguments but 5 were given",
     "output_type": "error",
     "traceback": [
      "\u001b[1;31m---------------------------------------------------------------------------\u001b[0m",
      "\u001b[1;31mTypeError\u001b[0m                                 Traceback (most recent call last)",
      "\u001b[1;32m<ipython-input-4-37c8947ec47d>\u001b[0m in \u001b[0;36m<module>\u001b[1;34m\u001b[0m\n\u001b[1;32m----> 1\u001b[1;33m \u001b[0mlittleGirl\u001b[0m \u001b[1;33m=\u001b[0m \u001b[0mBaby\u001b[0m\u001b[1;33m(\u001b[0m\u001b[1;34m'self'\u001b[0m\u001b[1;33m,\u001b[0m \u001b[1;34m'mary'\u001b[0m\u001b[1;33m,\u001b[0m \u001b[1;34m'female'\u001b[0m\u001b[1;33m,\u001b[0m \u001b[1;36m1\u001b[0m\u001b[1;33m)\u001b[0m\u001b[1;33m\u001b[0m\u001b[1;33m\u001b[0m\u001b[0m\n\u001b[0m",
      "\u001b[1;31mTypeError\u001b[0m: __init__() takes 4 positional arguments but 5 were given"
     ]
    }
   ],
   "source": [
    "littleGirl = Baby('self', 'mary', 'female', 1)"
   ]
  },
  {
   "cell_type": "code",
   "execution_count": 5,
   "metadata": {},
   "outputs": [],
   "source": [
    "littleGirl = Baby('mary', 'female', 1)"
   ]
  },
  {
   "cell_type": "code",
   "execution_count": 6,
   "metadata": {},
   "outputs": [
    {
     "name": "stdout",
     "output_type": "stream",
     "text": [
      "<__main__.Baby object at 0x0000025F158E10A0>\n"
     ]
    }
   ],
   "source": [
    "print(littleBoy)"
   ]
  },
  {
   "cell_type": "code",
   "execution_count": 7,
   "metadata": {},
   "outputs": [
    {
     "name": "stdout",
     "output_type": "stream",
     "text": [
      "John\n"
     ]
    }
   ],
   "source": [
    "print(littleBoy.name)"
   ]
  },
  {
   "cell_type": "code",
   "execution_count": 8,
   "metadata": {},
   "outputs": [
    {
     "name": "stdout",
     "output_type": "stream",
     "text": [
      "Mary\n"
     ]
    }
   ],
   "source": [
    "print(littleGirl.name)"
   ]
  },
  {
   "cell_type": "code",
   "execution_count": 9,
   "metadata": {},
   "outputs": [
    {
     "name": "stdout",
     "output_type": "stream",
     "text": [
      "male\n",
      "1\n",
      "True\n"
     ]
    }
   ],
   "source": [
    "print(littleBoy.gender)\n",
    "print(littleGirl.age)\n",
    "print(littleBoy.tired)"
   ]
  },
  {
   "cell_type": "code",
   "execution_count": 10,
   "metadata": {},
   "outputs": [],
   "source": [
    "class Baby():\n",
    "    \"\"\"A simple class to simulate a baby\"\"\"\n",
    "    \n",
    "    def __init__(self, name, gender, age): \n",
    "        \"\"\"Initialize attributes\"\"\"\n",
    "        self.name = name.title()\n",
    "        self.gender = gender\n",
    "        self.age = age\n",
    "        \n",
    "        self.tired = True \n",
    "        \n",
    "  \n",
    "    def play(self):\n",
    "        \"\"\"Simulate playing based on gender.\"\"\"\n",
    "        if self.gender == 'male':\n",
    "            print(self.name + \" is playing with cars.\")\n",
    "        else:\n",
    "            print(self.name + \" is playing with blocks\")\n",
    "    \n",
    "    def cry(self):\n",
    "        \"\"\"Simulate crying\"\"\"\n",
    "        print(\"WAAHHH WAAAHHHH WAAAHHHHH\")\n",
    "        print(\"Even \" + str(self.age) + \" year olds cry.\")\n",
    "    \n",
    "    def sleep(self):\n",
    "        \"\"\"Simulate sleeping\"\"\"\n",
    "        if self.tired:\n",
    "            print(self.name + \" is sleeping.... FINALLY!\")\n",
    "            self.tired = False\n",
    "        else:\n",
    "            print(\"Sorry! \" + self.name + \" isn't tired.\")      "
   ]
  },
  {
   "cell_type": "code",
   "execution_count": 11,
   "metadata": {},
   "outputs": [],
   "source": [
    "littleBoy = Baby('john', 'male' , 3)\n",
    "littleGirl = Baby('mary', 'female', 1)"
   ]
  },
  {
   "cell_type": "code",
   "execution_count": 12,
   "metadata": {},
   "outputs": [
    {
     "name": "stdout",
     "output_type": "stream",
     "text": [
      "John is a 3 year old male.\n",
      "Mary is a 1 year old female.\n"
     ]
    }
   ],
   "source": [
    "print(littleBoy.name + \" is a \" + str(littleBoy.age) + \" year old \" + littleBoy.gender + \".\")\n",
    "print(littleGirl.name + \" is a \" + str(littleGirl.age) + \" year old \" + littleGirl.gender + \".\")"
   ]
  },
  {
   "cell_type": "code",
   "execution_count": 13,
   "metadata": {},
   "outputs": [
    {
     "name": "stdout",
     "output_type": "stream",
     "text": [
      "John is playing with cars.\n",
      "Mary is playing with blocks\n"
     ]
    }
   ],
   "source": [
    "littleBoy.play()\n",
    "littleGirl.play()"
   ]
  },
  {
   "cell_type": "code",
   "execution_count": 14,
   "metadata": {},
   "outputs": [
    {
     "name": "stdout",
     "output_type": "stream",
     "text": [
      "WAAHHH WAAAHHHH WAAAHHHHH\n",
      "Even 3 year olds cry.\n",
      "WAAHHH WAAAHHHH WAAAHHHHH\n",
      "Even 1 year olds cry.\n"
     ]
    }
   ],
   "source": [
    "littleBoy.cry()\n",
    "littleGirl.cry()"
   ]
  },
  {
   "cell_type": "code",
   "execution_count": 15,
   "metadata": {},
   "outputs": [
    {
     "name": "stdout",
     "output_type": "stream",
     "text": [
      "John is sleeping.... FINALLY!\n",
      "Mary is sleeping.... FINALLY!\n"
     ]
    }
   ],
   "source": [
    "littleBoy.sleep()\n",
    "littleGirl.sleep()"
   ]
  },
  {
   "cell_type": "code",
   "execution_count": 16,
   "metadata": {},
   "outputs": [
    {
     "name": "stdout",
     "output_type": "stream",
     "text": [
      "Sorry! John isn't tired.\n"
     ]
    }
   ],
   "source": [
    "littleBoy.sleep()"
   ]
  },
  {
   "cell_type": "code",
   "execution_count": 17,
   "metadata": {},
   "outputs": [
    {
     "name": "stdout",
     "output_type": "stream",
     "text": [
      "Ryan is a 3 year old female.\n",
      "Ryan is a 2 year old female.\n",
      "Ryan is a 1 year old male.\n",
      "Ryan is a 4 year old female.\n",
      "Ryan is a 5 year old male.\n",
      "Ryan is a 3 year old male.\n",
      "Ryan is a 3 year old male.\n",
      "Ryan is a 0 year old female.\n",
      "Ryan is a 4 year old female.\n",
      "Ryan is a 5 year old male.\n",
      "Ryan is a 4 year old female.\n",
      "Ryan is a 2 year old male.\n",
      "Ryan is a 2 year old female.\n",
      "Ryan is a 5 year old female.\n",
      "Ryan is a 1 year old female.\n",
      "Ryan is a 3 year old male.\n",
      "Ryan is a 2 year old male.\n",
      "Ryan is a 4 year old female.\n",
      "Ryan is a 3 year old male.\n",
      "Ryan is a 3 year old female.\n",
      "Ryan is a 3 year old male.\n",
      "Ryan is a 3 year old male.\n",
      "Ryan is a 0 year old male.\n",
      "Ryan is a 2 year old female.\n",
      "Ryan is a 1 year old male.\n"
     ]
    }
   ],
   "source": [
    "import random\n",
    "babies = []\n",
    "for i in range(25):\n",
    "    num = random.randint(0,1)\n",
    "    if num == 0:\n",
    "        gender = 'male'\n",
    "    else:\n",
    "        gender = 'female'\n",
    "        \n",
    "    age = random.randint(0,5)\n",
    "    \n",
    "    baby = Baby(\"ryan\", gender, age)\n",
    "    babies.append(baby)\n",
    "    \n",
    "for baby in babies:\n",
    "    print(baby.name + \" is a \" + str(baby.age) + \" year old \" + baby.gender + \".\")"
   ]
  },
  {
   "cell_type": "code",
   "execution_count": 18,
   "metadata": {},
   "outputs": [
    {
     "name": "stdout",
     "output_type": "stream",
     "text": [
      "Baby# 0 is a 4 year old female.\n",
      "Baby# 1 is a 1 year old male.\n",
      "Baby# 2 is a 4 year old male.\n",
      "Baby# 3 is a 5 year old female.\n",
      "Baby# 4 is a 0 year old male.\n",
      "Baby# 5 is a 4 year old male.\n",
      "Baby# 6 is a 5 year old female.\n",
      "Baby# 7 is a 3 year old male.\n",
      "Baby# 8 is a 4 year old male.\n",
      "Baby# 9 is a 1 year old female.\n",
      "Baby# 10 is a 2 year old male.\n",
      "Baby# 11 is a 2 year old female.\n",
      "Baby# 12 is a 4 year old female.\n",
      "Baby# 13 is a 5 year old male.\n",
      "Baby# 14 is a 4 year old male.\n",
      "Baby# 15 is a 5 year old male.\n",
      "Baby# 16 is a 0 year old male.\n",
      "Baby# 17 is a 2 year old male.\n",
      "Baby# 18 is a 2 year old female.\n",
      "Baby# 19 is a 3 year old male.\n",
      "Baby# 20 is a 0 year old male.\n",
      "Baby# 21 is a 5 year old female.\n",
      "Baby# 22 is a 1 year old female.\n",
      "Baby# 23 is a 5 year old female.\n",
      "Baby# 24 is a 1 year old male.\n",
      "Baby# 25 is a 4 year old female.\n",
      "Baby# 26 is a 4 year old female.\n",
      "Baby# 27 is a 3 year old male.\n",
      "Baby# 28 is a 0 year old male.\n",
      "Baby# 29 is a 4 year old male.\n",
      "Baby# 30 is a 3 year old female.\n",
      "Baby# 31 is a 3 year old female.\n",
      "Baby# 32 is a 5 year old female.\n",
      "Baby# 33 is a 4 year old female.\n",
      "Baby# 34 is a 2 year old female.\n",
      "Baby# 35 is a 3 year old male.\n",
      "Baby# 36 is a 2 year old male.\n",
      "Baby# 37 is a 0 year old female.\n",
      "Baby# 38 is a 3 year old female.\n",
      "Baby# 39 is a 2 year old male.\n",
      "Baby# 40 is a 5 year old female.\n",
      "Baby# 41 is a 3 year old male.\n",
      "Baby# 42 is a 5 year old female.\n",
      "Baby# 43 is a 3 year old female.\n",
      "Baby# 44 is a 2 year old female.\n",
      "Baby# 45 is a 1 year old male.\n",
      "Baby# 46 is a 0 year old female.\n",
      "Baby# 47 is a 4 year old female.\n",
      "Baby# 48 is a 0 year old female.\n",
      "Baby# 49 is a 4 year old female.\n",
      "Baby# 50 is a 3 year old male.\n",
      "Baby# 51 is a 3 year old male.\n",
      "Baby# 52 is a 2 year old female.\n",
      "Baby# 53 is a 2 year old female.\n",
      "Baby# 54 is a 5 year old male.\n",
      "Baby# 55 is a 4 year old female.\n",
      "Baby# 56 is a 1 year old female.\n",
      "Baby# 57 is a 3 year old female.\n",
      "Baby# 58 is a 3 year old female.\n",
      "Baby# 59 is a 0 year old male.\n",
      "Baby# 60 is a 4 year old male.\n",
      "Baby# 61 is a 3 year old male.\n",
      "Baby# 62 is a 4 year old male.\n",
      "Baby# 63 is a 0 year old female.\n",
      "Baby# 64 is a 3 year old female.\n",
      "Baby# 65 is a 2 year old female.\n",
      "Baby# 66 is a 2 year old female.\n",
      "Baby# 67 is a 4 year old female.\n",
      "Baby# 68 is a 3 year old female.\n",
      "Baby# 69 is a 2 year old female.\n",
      "Baby# 70 is a 4 year old female.\n",
      "Baby# 71 is a 3 year old female.\n",
      "Baby# 72 is a 1 year old female.\n",
      "Baby# 73 is a 1 year old male.\n",
      "Baby# 74 is a 1 year old female.\n",
      "Baby# 75 is a 5 year old male.\n",
      "Baby# 76 is a 3 year old female.\n",
      "Baby# 77 is a 3 year old female.\n",
      "Baby# 78 is a 5 year old female.\n",
      "Baby# 79 is a 5 year old male.\n",
      "Baby# 80 is a 0 year old male.\n",
      "Baby# 81 is a 5 year old male.\n",
      "Baby# 82 is a 4 year old female.\n",
      "Baby# 83 is a 1 year old male.\n",
      "Baby# 84 is a 5 year old male.\n",
      "Baby# 85 is a 0 year old male.\n",
      "Baby# 86 is a 4 year old female.\n",
      "Baby# 87 is a 1 year old female.\n",
      "Baby# 88 is a 5 year old male.\n",
      "Baby# 89 is a 2 year old male.\n",
      "Baby# 90 is a 5 year old male.\n",
      "Baby# 91 is a 3 year old female.\n",
      "Baby# 92 is a 2 year old female.\n",
      "Baby# 93 is a 1 year old male.\n",
      "Baby# 94 is a 1 year old male.\n",
      "Baby# 95 is a 4 year old male.\n",
      "Baby# 96 is a 1 year old female.\n",
      "Baby# 97 is a 2 year old female.\n",
      "Baby# 98 is a 4 year old female.\n",
      "Baby# 99 is a 0 year old male.\n"
     ]
    }
   ],
   "source": [
    "import random\n",
    "babies = []\n",
    "for i in range(100):              #dito isa\n",
    "    num = random.randint(0,1)\n",
    "    if num == 0:\n",
    "        gender = 'male'\n",
    "    else:\n",
    "        gender = 'female'\n",
    "        \n",
    "    age = random.randint(0,5)\n",
    "    \n",
    "    baby = Baby(str(i), gender, age)    #eto pa\n",
    "    babies.append(baby)\n",
    "    \n",
    "for baby in babies:\n",
    "    print(\"Baby# \" + baby.name + \" is a \" + str(baby.age) + \" year old \" + baby.gender + \".\") #Dito pa"
   ]
  },
  {
   "cell_type": "markdown",
   "metadata": {},
   "source": [
    "### Another look at Classes"
   ]
  },
  {
   "cell_type": "code",
   "execution_count": 19,
   "metadata": {},
   "outputs": [],
   "source": [
    "class House():\n",
    "    \"\"\"A class to model a house that is for sale.\"\"\"\n",
    "    \n",
    "    def __init__(self, style, sqFoot, yearBuilt, price):\n",
    "        \"\"\"Initialize attributes\"\"\"\n",
    "        self.style = style\n",
    "        self.sqFoot = sqFoot\n",
    "        self.yearBuilt = yearBuilt\n",
    "        self.price = price\n",
    "        \n",
    "        self.sold = False\n",
    "        self.weeksOnMarket = 0\n",
    "        \n",
    "    def displayInfo(self):\n",
    "        \"\"\"Display the information on the house\"\"\"\n",
    "        print(\"\\n----- House for Sale -----\")\n",
    "        print(\"House Style:\\t\" + self.style)\n",
    "        print(\"Square Feet:\\t\" + str(self.sqFoot))\n",
    "        print(\"Year Build:\\t\" + str(self.yearBuilt))\n",
    "        print(\"Sale Price:\\t\" + str(self.price))\n",
    "        print(\"\\nThis house has been on the market for \" + str(self.weeksOnMarket) + \" weeks.\")\n",
    "        \n",
    "    def sellHouse(self):\n",
    "        \"\"\"Sell the house!\"\"\"\n",
    "        if self.sold == False:\n",
    "            print(\"Congratulations! Your house has sold for Php\" + str(self.price) + \"!\")\n",
    "            self.sold = True\n",
    "        else:\n",
    "            print(\"Sorry, this house is no longer for sale!\")\n",
    "            \n",
    "    def changePrice(self, amount):\n",
    "        \"\"\"Change the sale price of the house\"\"\"\n",
    "        self.price += amount \n",
    "        if amount < 0 :\n",
    "            print(\"Price drop!!!\")\n",
    "        else: \n",
    "            print(\"The house has increased in value by Php\" + str(amount) + \".\")\n",
    "            \n",
    "    def updateWeeks(self, weeks = 1):\n",
    "        \"\"\"Increment the number of weeks a house has been on the market.\"\"\"\n",
    "        self.weeksOnMarket += weeks\n",
    "\n",
    "#making an instance of the house\n",
    "myHouse = House(\"Ranch\", 1800, 1962, 20000000)   \n",
    "        \n",
    "    \n",
    "        "
   ]
  },
  {
   "cell_type": "code",
   "execution_count": 20,
   "metadata": {},
   "outputs": [
    {
     "name": "stdout",
     "output_type": "stream",
     "text": [
      "Ranch\n",
      "1800\n",
      "20000000\n",
      "False\n"
     ]
    }
   ],
   "source": [
    "#Print out attributes\n",
    "print(myHouse.style)\n",
    "print(myHouse.sqFoot)\n",
    "print(myHouse.price)\n",
    "print(myHouse.sold)"
   ]
  },
  {
   "cell_type": "code",
   "execution_count": 21,
   "metadata": {},
   "outputs": [
    {
     "name": "stdout",
     "output_type": "stream",
     "text": [
      "\n",
      "----- House for Sale -----\n",
      "House Style:\tRanch\n",
      "Square Feet:\t1800\n",
      "Year Build:\t1962\n",
      "Sale Price:\t20000000\n",
      "\n",
      "This house has been on the market for 0 weeks.\n"
     ]
    }
   ],
   "source": [
    "#Call the method on display info\n",
    "\n",
    "myHouse.displayInfo()"
   ]
  },
  {
   "cell_type": "code",
   "execution_count": 22,
   "metadata": {},
   "outputs": [],
   "source": [
    "myHouse.updateWeeks()"
   ]
  },
  {
   "cell_type": "code",
   "execution_count": 23,
   "metadata": {},
   "outputs": [
    {
     "name": "stdout",
     "output_type": "stream",
     "text": [
      "\n",
      "----- House for Sale -----\n",
      "House Style:\tRanch\n",
      "Square Feet:\t1800\n",
      "Year Build:\t1962\n",
      "Sale Price:\t20000000\n",
      "\n",
      "This house has been on the market for 1 weeks.\n"
     ]
    }
   ],
   "source": [
    "myHouse.displayInfo()"
   ]
  },
  {
   "cell_type": "code",
   "execution_count": 24,
   "metadata": {},
   "outputs": [
    {
     "name": "stdout",
     "output_type": "stream",
     "text": [
      "\n",
      "----- House for Sale -----\n",
      "House Style:\tRanch\n",
      "Square Feet:\t1800\n",
      "Year Build:\t1962\n",
      "Sale Price:\t20000000\n",
      "\n",
      "This house has been on the market for 16 weeks.\n"
     ]
    }
   ],
   "source": [
    "#After 15 weeks\n",
    "myHouse.updateWeeks(15)\n",
    "myHouse.displayInfo()"
   ]
  },
  {
   "cell_type": "code",
   "execution_count": 25,
   "metadata": {},
   "outputs": [
    {
     "name": "stdout",
     "output_type": "stream",
     "text": [
      "Price drop!!!\n",
      "\n",
      "----- House for Sale -----\n",
      "House Style:\tRanch\n",
      "Square Feet:\t1800\n",
      "Year Build:\t1962\n",
      "Sale Price:\t15000000\n",
      "\n",
      "This house has been on the market for 16 weeks.\n"
     ]
    }
   ],
   "source": [
    "#Change the sale price\n",
    "myHouse.changePrice(-5000000)\n",
    "myHouse.displayInfo()"
   ]
  },
  {
   "cell_type": "code",
   "execution_count": 26,
   "metadata": {},
   "outputs": [
    {
     "name": "stdout",
     "output_type": "stream",
     "text": [
      "\n",
      "----- House for Sale -----\n",
      "House Style:\tRanch\n",
      "Square Feet:\t1800\n",
      "Year Build:\t1962\n",
      "Sale Price:\t15000000\n",
      "\n",
      "This house has been on the market for 21 weeks.\n",
      "The house has increased in value by Php10000000.\n",
      "\n",
      "----- House for Sale -----\n",
      "House Style:\tRanch\n",
      "Square Feet:\t1800\n",
      "Year Build:\t1962\n",
      "Sale Price:\t25000000\n",
      "\n",
      "This house has been on the market for 21 weeks.\n"
     ]
    }
   ],
   "source": [
    "#House on market for another 5 weeks\n",
    "myHouse.updateWeeks(5)\n",
    "myHouse.displayInfo()\n",
    "\n",
    "#new Interest\n",
    "myHouse.changePrice(10000000)\n",
    "myHouse.displayInfo()"
   ]
  },
  {
   "cell_type": "code",
   "execution_count": 27,
   "metadata": {},
   "outputs": [
    {
     "name": "stdout",
     "output_type": "stream",
     "text": [
      "Price drop!!!\n",
      "\n",
      "----- House for Sale -----\n",
      "House Style:\tRanch\n",
      "Square Feet:\t1650\n",
      "Year Build:\t1962\n",
      "Sale Price:\t24500000\n",
      "\n",
      "This house has been on the market for 21 weeks.\n"
     ]
    }
   ],
   "source": [
    "#Wrong square footage\n",
    "myHouse.sqFoot -= 150\n",
    "\n",
    "myHouse.changePrice(-500000)\n",
    "myHouse.displayInfo()"
   ]
  },
  {
   "cell_type": "code",
   "execution_count": 28,
   "metadata": {},
   "outputs": [
    {
     "name": "stdout",
     "output_type": "stream",
     "text": [
      "Congratulations! Your house has sold for Php24500000!\n",
      "Sorry, this house is no longer for sale!\n"
     ]
    }
   ],
   "source": [
    "#Selling the house\n",
    "myHouse.sellHouse()\n",
    "\n",
    "#someone else wants to buy the house\n",
    "myHouse.sellHouse()"
   ]
  },
  {
   "cell_type": "code",
   "execution_count": null,
   "metadata": {},
   "outputs": [],
   "source": []
  }
 ],
 "metadata": {
  "kernelspec": {
   "display_name": "Python 3",
   "language": "python",
   "name": "python3"
  },
  "language_info": {
   "codemirror_mode": {
    "name": "ipython",
    "version": 3
   },
   "file_extension": ".py",
   "mimetype": "text/x-python",
   "name": "python",
   "nbconvert_exporter": "python",
   "pygments_lexer": "ipython3",
   "version": "3.8.3"
  }
 },
 "nbformat": 4,
 "nbformat_minor": 4
}
