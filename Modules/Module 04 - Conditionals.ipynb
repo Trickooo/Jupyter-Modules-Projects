{
 "cells": [
  {
   "cell_type": "markdown",
   "metadata": {},
   "source": [
    "## Conditionals\n",
    "\n",
    "\n",
    "### Unit Overview\n",
    "\n",
    "In this unit we will introduce the second construct that we have to control the flow of our program. The if / elif / else chain. We will learn how to:\n",
    "\n",
    "* Define boolean values and use various comparison membership and logical operators.\n",
    "* Use these comparison membership and logical operators \n",
    "* Build simple if else statements using conditional tests \n",
    "* Build more complex if elif and else chains.\n",
    "* Nest if/elif/else chains for more dynamic programs\n",
    "* Interpret blank lists or strings as boolean values.\n",
    "* Use logical operators to create more robust conditional tests which are going to allow for more complex programs.\n",
    "* Import the random module to randomly generate values for our programs\n",
    "\n",
    "\n",
    "\n",
    "### Data Types\n",
    "\n",
    "<b> Done </b>\n",
    "* Strings: A series of characters \n",
    "* Integers: Whole Numbers\n",
    "* Floats: Decimal Numbers\n",
    "* Lists: A mutable collection\n",
    "* Tuples: An immutable collection\n",
    "* Ranges: A sequence of integers\n",
    "\n",
    "<b> For Today </b>\n",
    "* Booleans: A True or False value\n",
    "\n",
    "### Control Flow\n",
    "\n",
    "<b> Done </b>\n",
    "* For Loops\n",
    "\n",
    "<b> For Today </b>\n",
    "* If Statements\n",
    "* If/Else Statements\n",
    "* If/Elif/Else Statements\n",
    "* Break\n",
    "* Pass\n",
    "* Continue\n",
    "\n",
    "### Operators\n",
    "<b>Logical Operators</b>\n",
    "* And\n",
    "* Or\n",
    "* Not\n",
    "\n",
    "<b>Membership Operators</b>\n",
    "* In\n",
    "* Not in\n",
    "\n",
    "<b>Comparison Operators</b>\n",
    "* == Equal to\n",
    "* != Not Equal to\n",
    "* < Less than\n",
    "* > Greater than\n",
    "* <= Less Than or Equal\n",
    "* >= Greater than or Equal\n",
    "\n",
    "\n",
    "### Built In Functions\n",
    "\n",
    "* No new built in functions for this topic\n",
    "\n",
    "### Methods\n",
    "\n",
    "<b> Strings: </b>\n",
    "* .upper()\n",
    "* .lower()\n",
    "* .title()\n",
    "* .strip()\n",
    "* .count()\n",
    "* .join() <b> \n",
    "* .startswith()</b>\n",
    "\n",
    "<b> Lists: </b>\n",
    "* .append()\n",
    "* .insert()\n",
    "* .pop()\n",
    "* .remove()\n",
    "* .sort()\n",
    "* .reverse()\n",
    "* .copy() \n",
    "\n",
    "<b> External Libraries </b>\n",
    "* math\n",
    "* datetime\n",
    "* cmath <b>\n",
    "* random </b>\n",
    "\n",
    "## Codelabs Exercise\n",
    "* Coin Toss App\n",
    "* Guess My Number App\n",
    "* Rock Paper Scissors"
   ]
  },
  {
   "cell_type": "markdown",
   "metadata": {},
   "source": [
    "### A New Data Type - Booleans\n",
    "\n",
    "Booelean Value - a boolean value is a value that is either true or false boolean values allow for logic flow and programs that branch based on whether a boolean is true or not\n",
    "\n",
    "* True\n",
    "* False\n",
    "\n",
    "Note: Boolean values are always capitalize\n",
    "\n"
   ]
  },
  {
   "cell_type": "code",
   "execution_count": 2,
   "metadata": {},
   "outputs": [
    {
     "name": "stdout",
     "output_type": "stream",
     "text": [
      "True\n",
      "<class 'bool'>\n"
     ]
    }
   ],
   "source": [
    "status = True\n",
    "print(status)\n",
    "print(type(status))"
   ]
  },
  {
   "cell_type": "code",
   "execution_count": 3,
   "metadata": {},
   "outputs": [
    {
     "name": "stdout",
     "output_type": "stream",
     "text": [
      "False\n",
      "<class 'bool'>\n"
     ]
    }
   ],
   "source": [
    "status = False\n",
    "print(status)\n",
    "print(type(status))"
   ]
  },
  {
   "cell_type": "markdown",
   "metadata": {},
   "source": [
    "= : Assignment Operator\n",
    "<br>== : Comparison Operator"
   ]
  },
  {
   "cell_type": "code",
   "execution_count": 4,
   "metadata": {},
   "outputs": [
    {
     "name": "stdout",
     "output_type": "stream",
     "text": [
      "True\n"
     ]
    }
   ],
   "source": [
    "soda = 'coke'\n",
    "print(soda == 'coke')"
   ]
  },
  {
   "cell_type": "code",
   "execution_count": 5,
   "metadata": {},
   "outputs": [
    {
     "name": "stdout",
     "output_type": "stream",
     "text": [
      "False\n"
     ]
    }
   ],
   "source": [
    "soda = 'coke'\n",
    "print(soda == 'pepsi')"
   ]
  },
  {
   "cell_type": "code",
   "execution_count": 6,
   "metadata": {},
   "outputs": [
    {
     "name": "stdout",
     "output_type": "stream",
     "text": [
      "False\n"
     ]
    }
   ],
   "source": [
    "soda = 'coke'\n",
    "print(soda == 'Coke')"
   ]
  },
  {
   "cell_type": "code",
   "execution_count": 8,
   "metadata": {},
   "outputs": [
    {
     "name": "stdout",
     "output_type": "stream",
     "text": [
      "True\n"
     ]
    }
   ],
   "source": [
    "print(soda != 'root beer')"
   ]
  },
  {
   "cell_type": "code",
   "execution_count": 10,
   "metadata": {},
   "outputs": [
    {
     "name": "stdout",
     "output_type": "stream",
     "text": [
      "True\n",
      "False\n"
     ]
    }
   ],
   "source": [
    "names =['mike', 'john', 'mary']\n",
    "mikeStatus = 'mike' in names\n",
    "billStatus = 'bill' in names\n",
    "print(mikeStatus)\n",
    "print(billStatus)"
   ]
  },
  {
   "cell_type": "code",
   "execution_count": 11,
   "metadata": {},
   "outputs": [
    {
     "name": "stdout",
     "output_type": "stream",
     "text": [
      "True\n"
     ]
    }
   ],
   "source": [
    "notBillStatus = 'bill' not in names\n",
    "print(notBillStatus)"
   ]
  },
  {
   "cell_type": "markdown",
   "metadata": {},
   "source": [
    "### Simple If Else Statements\n",
    "\n",
    "Often times we want to perform certain actions if a specific test case is true or if it is false. We call these test cases <b>conditional tests</b>. We can use the comparison operator in conjunction with an if statement to control the flow of a program."
   ]
  },
  {
   "cell_type": "code",
   "execution_count": 2,
   "metadata": {},
   "outputs": [
    {
     "name": "stdout",
     "output_type": "stream",
     "text": [
      "green\n",
      "red\n",
      "blue\n"
     ]
    }
   ],
   "source": [
    "colors = ['green', 'red', 'blue']\n",
    "for color in colors:\n",
    "    print(color)"
   ]
  },
  {
   "cell_type": "code",
   "execution_count": 6,
   "metadata": {},
   "outputs": [
    {
     "name": "stdout",
     "output_type": "stream",
     "text": [
      "RED\n",
      "I LOVE the color RED\n"
     ]
    }
   ],
   "source": [
    "for color in colors:\n",
    "    if color == 'red':\n",
    "        print(color.upper())\n",
    "        print(\"I LOVE the color \" + color.upper())"
   ]
  },
  {
   "cell_type": "code",
   "execution_count": 7,
   "metadata": {},
   "outputs": [
    {
     "name": "stdout",
     "output_type": "stream",
     "text": [
      "green\n",
      "The color green is okay...\n",
      "RED\n",
      "I LOVE the color RED\n",
      "blue\n",
      "The color blue is okay...\n"
     ]
    }
   ],
   "source": [
    "for color in colors:\n",
    "    if color == 'red':\n",
    "        print(color.upper())\n",
    "        print(\"I LOVE the color \" + color.upper())\n",
    "    else:\n",
    "        print(color)\n",
    "        print(\"The color \" + color + \" is okay...\")\n",
    "        "
   ]
  },
  {
   "cell_type": "markdown",
   "metadata": {},
   "source": [
    "For numerical comparison, we can use <, >, <=, >= =="
   ]
  },
  {
   "cell_type": "code",
   "execution_count": 8,
   "metadata": {},
   "outputs": [
    {
     "name": "stdout",
     "output_type": "stream",
     "text": [
      "Ah, no drinks for you!\n"
     ]
    }
   ],
   "source": [
    "age = 19\n",
    "if age >= 21:\n",
    "    print(\"Have a drink!\")\n",
    "else:\n",
    "    print(\"Ah, no drinks for you!\")\n"
   ]
  },
  {
   "cell_type": "code",
   "execution_count": 12,
   "metadata": {},
   "outputs": [
    {
     "name": "stdout",
     "output_type": "stream",
     "text": [
      "What is your age: 21\n",
      "Have a drink!\n"
     ]
    }
   ],
   "source": [
    "age = int(input(\"What is your age: \"))\n",
    "if age >= 21:\n",
    "    print(\"Have a drink!\")\n",
    "else:\n",
    "    print(\"Ah, no drinks for you!\")"
   ]
  },
  {
   "cell_type": "markdown",
   "metadata": {},
   "source": [
    "Conditional tests can actually have more than one test by using the logical and and the logical or operators\n",
    "\n",
    "and = all test must be true to have an output that is true\n",
    "or = one condition must be true to have an output of true\n"
   ]
  },
  {
   "cell_type": "code",
   "execution_count": 14,
   "metadata": {},
   "outputs": [
    {
     "name": "stdout",
     "output_type": "stream",
     "text": [
      "Your a cool guy\n"
     ]
    }
   ],
   "source": [
    "firstName = \"Ryan\"\n",
    "lastName = \"Azur\"\n",
    "if firstName == \"Ryan\" and lastName == \"Azur\":\n",
    "    print(\"Your a cool guy\")\n",
    "else:\n",
    "    print(\"Not cool enough!\")"
   ]
  },
  {
   "cell_type": "code",
   "execution_count": 15,
   "metadata": {},
   "outputs": [
    {
     "name": "stdout",
     "output_type": "stream",
     "text": [
      "Not cool enough!\n"
     ]
    }
   ],
   "source": [
    "firstName = \"Ryan\"\n",
    "lastName = \"Azur\"\n",
    "if firstName == \"Alden\" and lastName == \"Azur\":\n",
    "    print(\"Your a cool guy\")\n",
    "else:\n",
    "    print(\"Not cool enough!\")"
   ]
  },
  {
   "cell_type": "code",
   "execution_count": 16,
   "metadata": {},
   "outputs": [
    {
     "name": "stdout",
     "output_type": "stream",
     "text": [
      "Your a great guy\n"
     ]
    }
   ],
   "source": [
    "firstName = \"Alden\"\n",
    "lastName = \"Azur\"\n",
    "if firstName == \"Ryan\" or lastName == \"Azur\":\n",
    "    print(\"Your a great guy\")\n",
    "else:\n",
    "    print(\"Not great enough!\")"
   ]
  },
  {
   "cell_type": "code",
   "execution_count": 20,
   "metadata": {},
   "outputs": [
    {
     "name": "stdout",
     "output_type": "stream",
     "text": [
      "What is your age: 21\n",
      "Okay good. You are 21!\n",
      "You can play poker.\n"
     ]
    }
   ],
   "source": [
    "#Elif Chains\n",
    "\n",
    "age = int(input(\"What is your age: \"))\n",
    "if age < 18:\n",
    "    print(\"You're only \" + str(age) + \"!\")\n",
    "    print(\"You cannot gamble!\")\n",
    "    \n",
    "else:\n",
    "    print(\"Okay good. You are \" + str(age) + \"!\")\n",
    "    print(\"You can play poker.\")\n",
    "    "
   ]
  },
  {
   "cell_type": "code",
   "execution_count": 22,
   "metadata": {},
   "outputs": [
    {
     "name": "stdout",
     "output_type": "stream",
     "text": [
      "What is your age: 21\n",
      "Okay good. You are 21!\n",
      "You can play Poker and you can have a drink.\n"
     ]
    }
   ],
   "source": [
    "#Elif Chains\n",
    "\n",
    "age = int(input(\"What is your age: \"))\n",
    "if age < 18:\n",
    "    print(\"You're only \" + str(age) + \"!\")\n",
    "    print(\"You cannot gamble!\")\n",
    "    \n",
    "elif age < 21:\n",
    "    print(\"Okay, so you are \" + str(age) + \"!\")\n",
    "    print(\"You can play Poker but you can't have a drink.\")\n",
    "else:\n",
    "    print(\"Okay good. You are \" + str(age) + \"!\")\n",
    "    print(\"You can play Poker and you can have a drink.\")\n",
    "    "
   ]
  },
  {
   "cell_type": "code",
   "execution_count": 24,
   "metadata": {},
   "outputs": [
    {
     "name": "stdout",
     "output_type": "stream",
     "text": [
      "What is your age: 100\n",
      "What are you doing in a casino!?!?!?\n"
     ]
    }
   ],
   "source": [
    "#Elif Chains\n",
    "\n",
    "age = int(input(\"What is your age: \"))\n",
    "if age < 18:\n",
    "    print(\"You're only \" + str(age) + \"!\")\n",
    "    print(\"You cannot gamble!\")\n",
    "    \n",
    "elif age < 21:\n",
    "    print(\"Okay, so you are \" + str(age) + \"!\")\n",
    "    print(\"You can play Poker but you can't have a drink.\")\n",
    "elif age < 100:\n",
    "    print(\"Okay good. You are \" + str(age) + \"!\")\n",
    "    print(\"You can play Poker and you can have a drink.\")\n",
    "\n",
    "else:\n",
    "    print(\"What are you doing in a casino!?!?!?\")\n",
    "    "
   ]
  },
  {
   "cell_type": "code",
   "execution_count": 28,
   "metadata": {},
   "outputs": [
    {
     "name": "stdout",
     "output_type": "stream",
     "text": [
      "That's sort of sort of medium\n"
     ]
    }
   ],
   "source": [
    "num = 15\n",
    "if num < 5:\n",
    "    print(\"That's a small number.\")\n",
    "elif num < 10:\n",
    "    print(\"That's sort of small\")\n",
    "elif num < 15:\n",
    "    print(\"That's sort of medium number\")\n",
    "elif num < 20:\n",
    "    print(\"That's sort of sort of medium\")\n",
    "elif num <= 25:\n",
    "    print(\"That is a large number\")\n",
    "elif num == 40:\n",
    "    print(\"I love that number\")\n",
    "else:\n",
    "    print(\"That number is HUGE!\")\n"
   ]
  },
  {
   "cell_type": "markdown",
   "metadata": {},
   "source": [
    "### Nested if statements"
   ]
  },
  {
   "cell_type": "code",
   "execution_count": 29,
   "metadata": {},
   "outputs": [
    {
     "name": "stdout",
     "output_type": "stream",
     "text": [
      "This list has something in it.\n"
     ]
    }
   ],
   "source": [
    "ourList = [2]\n",
    "ourString = \"\"\n",
    "\n",
    "if ourList:\n",
    "    print(\"This list has something in it.\")\n",
    "\n",
    "if ourString:\n",
    "    print(\"This string is not empty!\")"
   ]
  },
  {
   "cell_type": "code",
   "execution_count": 30,
   "metadata": {},
   "outputs": [
    {
     "name": "stdout",
     "output_type": "stream",
     "text": [
      "This list has something in it.\n",
      "This string is not empty!\n"
     ]
    }
   ],
   "source": [
    "ourList = [2]\n",
    "ourString = \"a\"\n",
    "\n",
    "if ourList:\n",
    "    print(\"This list has something in it.\")\n",
    "\n",
    "if ourString:\n",
    "    print(\"This string is not empty!\")"
   ]
  },
  {
   "cell_type": "code",
   "execution_count": 32,
   "metadata": {},
   "outputs": [
    {
     "name": "stdout",
     "output_type": "stream",
     "text": [
      "The Knicks could win the NBA Championship this year.\n",
      "I know they will win!\n",
      "The Kings could win the NBA Championship this year.\n",
      "They probably won't win though...\n"
     ]
    }
   ],
   "source": [
    "teams = ['knicks', 'kings', 'heat', 'lakers', 'pacers', 'celtics', 'pelicans']\n",
    "for team in teams:\n",
    "    if team.startswith('k'):\n",
    "         print(\"The \" + team.title() + \" could win the NBA Championship this year.\")\n",
    "         if team == 'knicks':\n",
    "             print(\"I know they will win!\")\n",
    "         else:\n",
    "             print(\"They probably won't win though...\")\n",
    "    "
   ]
  },
  {
   "cell_type": "code",
   "execution_count": 37,
   "metadata": {},
   "outputs": [
    {
     "name": "stdout",
     "output_type": "stream",
     "text": [
      "The Knicks could win the NBA Championship this year.\n",
      "I know they will win!\n",
      "The Kings could win the NBA Championship this year.\n",
      "They probably won't win though...\n",
      "The Heat stands no chance this year.\n",
      "The Lakers stands no chance this year.\n",
      "The Pacers will probably make the playoffs\n",
      "They need Reggie Miller back though.\n",
      "The Celtics stands no chance this year.\n",
      "The Pelicans will probably make the playoffs\n"
     ]
    }
   ],
   "source": [
    "teams = ['knicks', 'kings', 'heat', 'lakers', 'pacers', 'celtics', 'pelicans']\n",
    "for team in teams:\n",
    "    if team.startswith('k'):\n",
    "         print(\"The \" + team.title() + \" could win the NBA Championship this year.\")\n",
    "         if team == 'knicks':\n",
    "             print(\"I know they will win!\")\n",
    "         else:\n",
    "             print(\"They probably won't win though...\")\n",
    "    elif team.startswith('p'):\n",
    "        print(\"The \" +team.title() + \" will probably make the playoffs\")\n",
    "        if team == 'pacers':\n",
    "            print(\"They need Reggie Miller back though.\")\n",
    "    else:\n",
    "        print(\"The \" + team.title() + \" stands no chance this year.\")\n",
    "        "
   ]
  },
  {
   "cell_type": "markdown",
   "metadata": {},
   "source": [
    "### Break, Continue, and Pass Statements"
   ]
  },
  {
   "cell_type": "code",
   "execution_count": 38,
   "metadata": {},
   "outputs": [
    {
     "name": "stdout",
     "output_type": "stream",
     "text": [
      "1\n",
      "2\n",
      "3\n",
      "4\n",
      "5\n",
      "6\n",
      "7\n",
      "8\n",
      "9\n",
      "10\n"
     ]
    }
   ],
   "source": [
    "for i in range(1,11):\n",
    "    print(i)"
   ]
  },
  {
   "cell_type": "code",
   "execution_count": 40,
   "metadata": {},
   "outputs": [
    {
     "name": "stdout",
     "output_type": "stream",
     "text": [
      "1\n",
      "2\n",
      "3\n",
      "4\n",
      "Your number is 5.\n",
      "5\n",
      "6\n",
      "7\n",
      "8\n",
      "9\n",
      "10\n"
     ]
    }
   ],
   "source": [
    "for i in range(1,11):\n",
    "    if i == 5:\n",
    "        print(\"Your number is \" + str(i) + \".\")\n",
    "    print(i)"
   ]
  },
  {
   "cell_type": "code",
   "execution_count": 41,
   "metadata": {},
   "outputs": [
    {
     "name": "stdout",
     "output_type": "stream",
     "text": [
      "1\n",
      "2\n",
      "3\n",
      "4\n"
     ]
    }
   ],
   "source": [
    "#stop the for loop when the number is equal to 5\n",
    "\n",
    "for i in range(1,11):\n",
    "    if i == 5:\n",
    "        break\n",
    "    print(i)"
   ]
  },
  {
   "cell_type": "markdown",
   "metadata": {},
   "source": [
    "Break statement allows us to literally break our of a for loop"
   ]
  },
  {
   "cell_type": "code",
   "execution_count": 42,
   "metadata": {},
   "outputs": [
    {
     "name": "stdout",
     "output_type": "stream",
     "text": [
      "1\n",
      "2\n",
      "3\n",
      "4\n",
      "6\n",
      "7\n"
     ]
    }
   ],
   "source": [
    "for i in range(1,11):\n",
    "    if i == 8:\n",
    "        break\n",
    "    elif i == 5:\n",
    "        continue\n",
    "    print(i)"
   ]
  },
  {
   "cell_type": "markdown",
   "metadata": {},
   "source": [
    "Continue statement allows us to stop the current iteration of the loop"
   ]
  },
  {
   "cell_type": "code",
   "execution_count": 43,
   "metadata": {},
   "outputs": [
    {
     "name": "stdout",
     "output_type": "stream",
     "text": [
      "1\n",
      "2\n",
      "3\n",
      "4\n",
      "6\n",
      "7\n"
     ]
    }
   ],
   "source": [
    "for i in range(1,11):\n",
    "    if i == 8:\n",
    "        break\n",
    "    elif i == 5:\n",
    "        continue\n",
    "    elif i == 6:\n",
    "        pass\n",
    "    print(i)"
   ]
  },
  {
   "cell_type": "markdown",
   "metadata": {},
   "source": [
    "Pass statement passes over the current statement and continues the loop as normal"
   ]
  }
 ],
 "metadata": {
  "kernelspec": {
   "display_name": "Python 3",
   "language": "python",
   "name": "python3"
  },
  "language_info": {
   "codemirror_mode": {
    "name": "ipython",
    "version": 3
   },
   "file_extension": ".py",
   "mimetype": "text/x-python",
   "name": "python",
   "nbconvert_exporter": "python",
   "pygments_lexer": "ipython3",
   "version": "3.8.3"
  }
 },
 "nbformat": 4,
 "nbformat_minor": 4
}
