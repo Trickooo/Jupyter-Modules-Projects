{
 "cells": [
  {
   "cell_type": "code",
   "execution_count": 5,
   "id": "cbd80e02",
   "metadata": {},
   "outputs": [
    {
     "name": "stdout",
     "output_type": "stream",
     "text": [
      "I love you\n",
      "\n",
      "aubrey ruela BOOOOOM!!!!!\n"
     ]
    }
   ],
   "source": [
    "bebeKo = \"aubrey ruela\"\n",
    "print(\"I love you\")\n",
    "print()\n",
    "print(bebeKo + \" BOOOOOM!!!!!\")"
   ]
  },
  {
   "cell_type": "code",
   "execution_count": 7,
   "id": "04cf1d6f",
   "metadata": {},
   "outputs": [
    {
     "name": "stdout",
     "output_type": "stream",
     "text": [
      "31250000000000\n"
     ]
    }
   ],
   "source": [
    "print(500 ** 5)"
   ]
  },
  {
   "cell_type": "code",
   "execution_count": 53,
   "id": "563987f6",
   "metadata": {},
   "outputs": [
    {
     "name": "stdout",
     "output_type": "stream",
     "text": [
      "Who is your love? aUBreY\n",
      "aubrey is your love then:\n",
      "\n",
      "You're correct!!!\n",
      "YOU LOVE AUBREY\n"
     ]
    }
   ],
   "source": [
    "myLoves = input(\"Who is your love? \")\n",
    "print(myLoves.lower() + \" is your love then:\")\n",
    "\n",
    "if(myLoves.lower() == \"aubrey\"):\n",
    "    print()\n",
    "    print(\"You're correct!!!\")\n",
    "    print(\"YOU LOVE AUBREY\")\n",
    "    \n",
    "else:\n",
    "    print(\"you're wrong\")\n",
    "    print(\"Aubrey is your love!\")\n",
    "    "
   ]
  },
  {
   "cell_type": "code",
   "execution_count": 11,
   "id": "da569762",
   "metadata": {},
   "outputs": [
    {
     "name": "stdout",
     "output_type": "stream",
     "text": [
      "What is your guess? 5566\n",
      "5566  is your answer!\n",
      "\n",
      "\n",
      "\n",
      "\n",
      "THANK YOU FOR PLAYINGGGG\n"
     ]
    }
   ],
   "source": [
    "\n",
    "answer = input(\"What is your guess? \")\n",
    "print(answer, \" is your answer!\")\n",
    "\n",
    "print()\n",
    "print()\n",
    "\n",
    "if(int(answer) == 17):\n",
    "    print(\"CONGRATULATIONS! you guessed it right!!!\")\n",
    "    if(int(answer) != 17):\n",
    "        print(\"Lower\")\n",
    "\n",
    "#lse:\n",
    "    print(\"You are wrong\")\n",
    "\n",
    "\n",
    "print()\n",
    "print()\n",
    "print(\"THANK YOU FOR PLAYINGGGG\")"
   ]
  },
  {
   "cell_type": "code",
   "execution_count": null,
   "id": "12cb66c1",
   "metadata": {},
   "outputs": [],
   "source": [
    "\n",
    "\n",
    "\n",
    "\n",
    "\n",
    "\n",
    "\n",
    "\n",
    "\n",
    "\n",
    "\n",
    "\n",
    "\n",
    "\n",
    "\n",
    "\n",
    "\n",
    "\n",
    "\n",
    "\n",
    "\n",
    "\n"
   ]
  },
  {
   "cell_type": "code",
   "execution_count": 88,
   "id": "5d5a52ca",
   "metadata": {},
   "outputs": [
    {
     "name": "stdout",
     "output_type": "stream",
     "text": [
      "write song lyrics here: john patrick gonzales mendoza\n",
      "\n",
      "\n",
      "\n",
      "2 is the number of letter E!\n"
     ]
    }
   ],
   "source": [
    "message = input(\"write song lyrics here: \")\n",
    "message = message.lower()\n",
    "print()\n",
    "hcount = message.count(\"e\")\n",
    "print()\n",
    "print()\n",
    "print(hcount, end=\" \")\n",
    "print(\"is the number of letter E!\")\n"
   ]
  },
  {
   "cell_type": "code",
   "execution_count": 7,
   "id": "b6c9b064",
   "metadata": {},
   "outputs": [
    {
     "name": "stdout",
     "output_type": "stream",
     "text": [
      "What is your name? PATRICK\n",
      "How old are you? 18\n",
      "How much money do you have? 0\n",
      "\n",
      "PATRICK is 18 years old and has php 0 in wallet\n"
     ]
    }
   ],
   "source": [
    "name = input(\"What is your name? \")\n",
    "age = input(\"How old are you? \")\n",
    "wallet = input(\"How much money do you have? \")\n",
    "print()\n",
    "print(\"{0} is {1} years old and has php {2} in wallet\".format(name, age, wallet))"
   ]
  },
  {
   "cell_type": "code",
   "execution_count": 14,
   "id": "e5582b9b",
   "metadata": {},
   "outputs": [
    {
     "name": "stdout",
     "output_type": "stream",
     "text": [
      "Sino kang hayop ka? Patrick\n",
      "Sino nag-aya? nicole\n",
      "Marami ka bang gagawin ngayon? Wala naman\n",
      "ano ang gagawin niyo? Discord\n",
      "Gusto mo ba sumama? Oo\n",
      "\n",
      "\n",
      "Si Patrick ay inaya ni nicole dahil Wala naman siyang gagawin ngayon para makapag Discord kaya siya'y um-Oo\n"
     ]
    }
   ],
   "source": [
    "name = input(\"Sino kang hayop ka? \")\n",
    "aya = input(\"Sino nag-aya? \")\n",
    "availability = input(\"Marami ka bang gagawin ngayon? \")\n",
    "gagawin = input(\"ano ang gagawin niyo? \")\n",
    "willing = input(\"Gusto mo ba sumama? \")\n",
    "print()\n",
    "print()\n",
    "print(f\"Si {name} ay inaya ni {aya} dahil {availability} siyang gagawin ngayon para makapag {gagawin} kaya siya'y um-{willing}\".format(name, aya, availability, gagawin, willing))\n"
   ]
  },
  {
   "cell_type": "code",
   "execution_count": null,
   "id": "17d24313",
   "metadata": {},
   "outputs": [],
   "source": []
  },
  {
   "cell_type": "code",
   "execution_count": null,
   "id": "1c5ce588",
   "metadata": {},
   "outputs": [],
   "source": []
  },
  {
   "cell_type": "code",
   "execution_count": null,
   "id": "a289d292",
   "metadata": {},
   "outputs": [],
   "source": []
  },
  {
   "cell_type": "code",
   "execution_count": null,
   "id": "03a18a58",
   "metadata": {},
   "outputs": [],
   "source": []
  },
  {
   "cell_type": "code",
   "execution_count": null,
   "id": "b8addfe2",
   "metadata": {},
   "outputs": [],
   "source": []
  },
  {
   "cell_type": "code",
   "execution_count": null,
   "id": "29770161",
   "metadata": {},
   "outputs": [],
   "source": []
  },
  {
   "cell_type": "code",
   "execution_count": null,
   "id": "73852e74",
   "metadata": {},
   "outputs": [],
   "source": []
  },
  {
   "cell_type": "code",
   "execution_count": null,
   "id": "00f1001c",
   "metadata": {},
   "outputs": [],
   "source": []
  },
  {
   "cell_type": "code",
   "execution_count": null,
   "id": "07da362b",
   "metadata": {},
   "outputs": [],
   "source": []
  }
 ],
 "metadata": {
  "kernelspec": {
   "display_name": "Python 3 (ipykernel)",
   "language": "python",
   "name": "python3"
  },
  "language_info": {
   "codemirror_mode": {
    "name": "ipython",
    "version": 3
   },
   "file_extension": ".py",
   "mimetype": "text/x-python",
   "name": "python",
   "nbconvert_exporter": "python",
   "pygments_lexer": "ipython3",
   "version": "3.12.1"
  }
 },
 "nbformat": 4,
 "nbformat_minor": 5
}
