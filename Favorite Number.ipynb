{
 "cells": [
  {
   "cell_type": "code",
   "execution_count": 2,
   "id": "3583cdf0",
   "metadata": {},
   "outputs": [
    {
     "name": "stdout",
     "output_type": "stream",
     "text": [
      "<class 'str'>\n"
     ]
    }
   ],
   "source": [
    "name = \"Patrick\"\n",
    "print(type(name))\n"
   ]
  },
  {
   "cell_type": "code",
   "execution_count": 5,
   "id": "e8605fef",
   "metadata": {},
   "outputs": [
    {
     "name": "stdout",
     "output_type": "stream",
     "text": [
      "type your name here: Patrick\n",
      "what's your favorite number? 26\n",
      "\n",
      "Patrick's favorite number is 26.\n"
     ]
    }
   ],
   "source": [
    "name = input(\"type your name here: \")\n",
    "favNum = input(\"what's your favorite number? \")\n",
    "print()\n",
    "print(name.title() + \"'s favorite number is \" + str(favNum) + \".\")"
   ]
  },
  {
   "cell_type": "code",
   "execution_count": null,
   "id": "80503e79",
   "metadata": {},
   "outputs": [],
   "source": [
    "name = input(\"Type your name here: \")\n",
    "favNum = input(\"What is your favorite number?\")\n",
    "print()\n",
    "print(name.title() + \"'s favorite number is \" + str(favNum) + \".\")"
   ]
  },
  {
   "cell_type": "code",
   "execution_count": null,
   "id": "5cf755fd",
   "metadata": {},
   "outputs": [],
   "source": [
    "        \n",
    "    \n",
    "    \n",
    "        \n",
    "        \n",
    "        \n",
    "        \n",
    "        \n",
    "        \n",
    "        \n",
    "        \n",
    "        \n",
    "        \n",
    "        \n",
    "        \n",
    "        \n",
    "        \n",
    "        \n",
    "        \n",
    "        \n",
    "        \n",
    "        \n",
    "        \n",
    "        \n",
    "        \n",
    "        \n",
    "        \n",
    "        \n",
    "        \n",
    "        \n",
    "        "
   ]
  },
  {
   "cell_type": "code",
   "execution_count": null,
   "id": "2c3f9275",
   "metadata": {},
   "outputs": [],
   "source": [
    "name = input(\"Type your name here: \")\n",
    "favNum = input(\"What is your favorite number?\")\n",
    "print()\n",
    "print(name.title() + \"'s favorite number is \" + str(favNum) + \".\")"
   ]
  },
  {
   "cell_type": "code",
   "execution_count": null,
   "id": "e8b114f6",
   "metadata": {},
   "outputs": [],
   "source": []
  },
  {
   "cell_type": "code",
   "execution_count": null,
   "id": "cd23f306",
   "metadata": {},
   "outputs": [],
   "source": [
    "name = input(\"Type your name here: \")\n",
    "favNum = input(\"What is your favorite number?\")\n",
    "print()\n",
    "print(name.title() + \"'s favorite number is \" + str(favNum) + \".\")"
   ]
  },
  {
   "cell_type": "code",
   "execution_count": null,
   "id": "791a9906",
   "metadata": {},
   "outputs": [],
   "source": []
  }
 ],
 "metadata": {
  "kernelspec": {
   "display_name": "Python 3 (ipykernel)",
   "language": "python",
   "name": "python3"
  },
  "language_info": {
   "codemirror_mode": {
    "name": "ipython",
    "version": 3
   },
   "file_extension": ".py",
   "mimetype": "text/x-python",
   "name": "python",
   "nbconvert_exporter": "python",
   "pygments_lexer": "ipython3",
   "version": "3.9.7"
  }
 },
 "nbformat": 4,
 "nbformat_minor": 5
}
