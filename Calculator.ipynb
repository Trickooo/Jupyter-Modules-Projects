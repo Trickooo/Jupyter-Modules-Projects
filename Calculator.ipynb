{
 "cells": [
  {
   "cell_type": "code",
   "execution_count": null,
   "metadata": {},
   "outputs": [],
   "source": [
    "print(\"Welcome to my Calculator Application\")\n",
    "\n",
    "number1 = float(input(\"What is the first number? \"))\n",
    "number2 = float(input(\"What is the second number? \"))\n",
    "operation = input(\"What operation would you like to use? \")\n",
    "\n",
    "if operation.lower() == 'addition':\n",
    "    answerAdd = (number1 + number2)\n",
    "    print(\"The answer to \" + str(number1) + \" + \" + str(number2) + \" is equal to \" + str(answerAdd) + \"!\")\n",
    "\n",
    "elif operation.lower() == 'multiplication':\n",
    "    answerMul = (number1 * number2)\n",
    "    print(\"The answer to \" + str(number1) + \" x \" + str(number2) + \" is equal to \" + str(answerMul) + \"!\")\n",
    "\n",
    "elif operation.lower() == 'subtraction':\n",
    "    answerSub = (number1 - number2)\n",
    "    print(\"The answer to \" + str(number1) + \" - \" + str(number2) + \" is equal to \" + str(answerSub) + \"!\")\n",
    "\n",
    "elif operation.lower() == 'division':\n",
    "    answerDiv = (number1/number2)\n",
    "    print(\"The answer to {0} / {1} is equal to {2}!\".format(number1, number2, answerDiv))\n",
    "\n",
    "else:\n",
    "    print(\"Sorry, you must chose a valid operation. (Addition, Subtraction, Multiplication and Division.)\")"
   ]
  }
 ],
 "metadata": {
  "kernelspec": {
   "display_name": "Python 3 (ipykernel)",
   "language": "python",
   "name": "python3"
  },
  "language_info": {
   "codemirror_mode": {
    "name": "ipython",
    "version": 3
   },
   "file_extension": ".py",
   "mimetype": "text/x-python",
   "name": "python",
   "nbconvert_exporter": "python",
   "pygments_lexer": "ipython3",
   "version": "3.12.1"
  }
 },
 "nbformat": 4,
 "nbformat_minor": 4
}
